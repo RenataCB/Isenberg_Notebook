{
 "cells": [
  {
   "cell_type": "markdown",
   "metadata": {},
   "source": [
    "# Isenberg School of Management Hub"
   ]
  },
  {
   "cell_type": "markdown",
   "metadata": {},
   "source": [
    "__Concept__\n",
    "\n",
    "The project presented in this notebook is an adaptation of the Isenberg School of Management Hub, originally designed by BIG architect as an extension to the old school building in Amherst, Massachusetts, USA. Its most prominent feature is the domino shaped façade, which results from a progressive tilting of the façade's beams. The program elaborated here is a personal interpretation of the original design with some creative liberty in what regards the parametric variations.\n",
    "\n",
    "__Notebook Structure__\n",
    "\n",
    "The notebook is organized by constructive elements. Each section explains how we modeled each part of the building, both the concept and the way the functions are implemented. The final section explores the parametric variations allowed by the program.\n",
    "\n",
    "__Running the Notebook__ \n",
    "\n",
    "This Algorithmic Design (AD) program was written in the Julia programming language and using the Khepri AD tool. Please install the requited dependencies (used packaged listed below) in order to run the notebook locally on your PC."
   ]
  },
  {
   "cell_type": "markdown",
   "metadata": {},
   "source": [
    "| Exterior render                                       | Entrance view                                         |       \n",
    "|-------------------------------------------------------|-------------------------------------------------------|\n",
    "| <img src=\"./figures/render_sunset.png\" width=\"450\"> | <img src=\"./figures/render_entrance.png\" width=\"450\"> | \n",
    "\n",
    "| Render of the lobby                                | Arerial view                                       |\n",
    "|---------------------------------------------------|----------------------------------------------------|\n",
    "| <img src=\"./figures/render_loby.png\" width=\"410\"> | <img src=\"./figures/render_beams.png\" width=\"490\"> | "
   ]
  },
  {
   "cell_type": "markdown",
   "metadata": {},
   "source": [
    "| | | Sketches made during the development of this program |\n",
    "|-------------|--------------|-----------------|\n",
    "| <img src=\"./drawings/S1.jpg\" width=\"300\"> | <img src=\"./drawings/S2.jpg\" width=\"300\"> |  <img src=\"./drawings/d1.jpg\" width=\"280\"> | \n",
    "\n",
    "| | |\n",
    "|------------|----------------|\n",
    "| <img src=\"./drawings/d2.jpg\" width=\"300\"> | <img src=\"./drawings/S3.jpg\" width=\"500\"> |"
   ]
  },
  {
   "cell_type": "markdown",
   "metadata": {},
   "source": [
    "| Construction sequence                                 | \n",
    "|-------------------------------------------------------|\n",
    "| <img src=\"./figures/gen_sequence_rev.gif\" width=\"900\"> |\n",
    "| Slabs ---- Straight beams ---- Tilted beams ---- Exterior walls ---- Interior pillars ---- Interior walls ---- Façade curtain walls ---- Tilted glass panels |"
   ]
  },
  {
   "cell_type": "markdown",
   "metadata": {},
   "source": [
    "# Packages"
   ]
  },
  {
   "cell_type": "markdown",
   "metadata": {},
   "source": [
    "__Install:__"
   ]
  },
  {
   "cell_type": "raw",
   "metadata": {},
   "source": [
    "using Pkg"
   ]
  },
  {
   "cell_type": "raw",
   "metadata": {},
   "source": [
    "# WebIO\n",
    "Pkg.add(PackageSpec(url=\"https://github.com/JuliaGizmos/WebIO.jl#de95ec71ac81484f50ccd1db68d96f55380f8b6f\"))"
   ]
  },
  {
   "cell_type": "raw",
   "metadata": {},
   "source": [
    "# Interact\n",
    "Pkg.add(PackageSpec(url=\"https://github.com/JuliaGizmos/Interact.jl\"))"
   ]
  },
  {
   "cell_type": "raw",
   "metadata": {},
   "source": [
    "# Khepri\n",
    "Pkg.add(PackageSpec(url=\"https://github.com/aptmcl/Khepri.jl\"))"
   ]
  },
  {
   "cell_type": "markdown",
   "metadata": {},
   "source": [
    "__Use:__"
   ]
  },
  {
   "cell_type": "code",
   "execution_count": 1,
   "metadata": {},
   "outputs": [
    {
     "data": {
      "text/html": [
       "<script>\n",
       "// Immediately-invoked-function-expression to avoid global variables.\n",
       "(function() {\n",
       "    var warning_div = document.getElementById(\"webio-warning-3107053204923560428\");\n",
       "    var hide = function () {\n",
       "        var script = document.getElementById(\"webio-setup-8588206334165350998\");\n",
       "        var parent = script && script.parentElement;\n",
       "        var grandparent = parent && parent.parentElement;\n",
       "        if (grandparent) {\n",
       "            grandparent.style.display = \"none\";\n",
       "        }\n",
       "        warning_div.style.display = \"none\";\n",
       "    };\n",
       "    if (typeof Jupyter !== \"undefined\") {\n",
       "        console.log(\"WebIO detected Jupyter notebook environment.\");\n",
       "        // Jupyter notebook.\n",
       "        var extensions = (\n",
       "            Jupyter\n",
       "            && Jupyter.notebook.config.data\n",
       "            && Jupyter.notebook.config.data.load_extensions\n",
       "        );\n",
       "        if (extensions && extensions[\"webio-jupyter-notebook\"]) {\n",
       "            // Extension already loaded.\n",
       "            console.log(\"Jupyter WebIO nbextension detected; not loading ad-hoc.\");\n",
       "            hide();\n",
       "            return;\n",
       "        }\n",
       "    } else if (window.location.pathname.includes(\"/lab\")) {\n",
       "        // Guessing JupyterLa\n",
       "        console.log(\"Jupyter Lab detected; make sure the @webio/jupyter-lab-provider labextension is installed.\");\n",
       "        hide();\n",
       "        return;\n",
       "    }\n",
       "})();\n",
       "\n",
       "</script>\n",
       "<p\n",
       "    id=\"webio-warning-3107053204923560428\"\n",
       "    class=\"output_text output_stderr\"\n",
       "    style=\"padding: 1em; font-weight: bold;\"\n",
       ">\n",
       "    Unable to load WebIO. Please make sure WebIO works for your Jupyter client.\n",
       "    For troubleshooting, please see <a href=\"https://juliagizmos.github.io/WebIO.jl/latest/providers/ijulia/\">\n",
       "    the WebIO/IJulia documentation</a>.\n",
       "    <!-- TODO: link to installation docs. -->\n",
       "</p>\n"
      ],
      "text/plain": [
       "HTML{String}(\"<script>\\n// Immediately-invoked-function-expression to avoid global variables.\\n(function() {\\n    var warning_div = document.getElementById(\\\"webio-warning-3107053204923560428\\\");\\n    var hide = function () {\\n        var script = document.getElementById(\\\"webio-setup-8588206334165350998\\\");\\n        var parent = script && script.parentElement;\\n        var grandparent = parent && parent.parentElement;\\n        if (grandparent) {\\n            grandparent.style.display = \\\"none\\\";\\n        }\\n        warning_div.style.display = \\\"none\\\";\\n    };\\n    if (typeof Jupyter !== \\\"undefined\\\") {\\n        console.log(\\\"WebIO detected Jupyter notebook environment.\\\");\\n        // Jupyter notebook.\\n        var extensions = (\\n            Jupyter\\n            && Jupyter.notebook.config.data\\n            && Jupyter.notebook.config.data.load_extensions\\n        );\\n        if (extensions && extensions[\\\"webio-jupyter-notebook\\\"]) {\\n            // Extension already loaded.\\n            console.log(\\\"Jupyter WebIO nbextension detected; not loading ad-hoc.\\\");\\n            hide();\\n            return;\\n        }\\n    } else if (window.location.pathname.includes(\\\"/lab\\\")) {\\n        // Guessing JupyterLa\\n        console.log(\\\"Jupyter Lab detected; make sure the @webio/jupyter-lab-provider labextension is installed.\\\");\\n        hide();\\n        return;\\n    }\\n})();\\n\\n</script>\\n<p\\n    id=\\\"webio-warning-3107053204923560428\\\"\\n    class=\\\"output_text output_stderr\\\"\\n    style=\\\"padding: 1em; font-weight: bold;\\\"\\n>\\n    Unable to load WebIO. Please make sure WebIO works for your Jupyter client.\\n    For troubleshooting, please see <a href=\\\"https://juliagizmos.github.io/WebIO.jl/latest/providers/ijulia/\\\">\\n    the WebIO/IJulia documentation</a>.\\n    <!-- TODO: link to installation docs. -->\\n</p>\\n\")"
      ]
     },
     "metadata": {},
     "output_type": "display_data"
    }
   ],
   "source": [
    "using WebIO"
   ]
  },
  {
   "cell_type": "code",
   "execution_count": 2,
   "metadata": {},
   "outputs": [],
   "source": [
    "using Interact"
   ]
  },
  {
   "cell_type": "code",
   "execution_count": 3,
   "metadata": {},
   "outputs": [],
   "source": [
    "using Khepri"
   ]
  },
  {
   "cell_type": "code",
   "execution_count": 4,
   "metadata": {},
   "outputs": [],
   "source": [
    "using Logging"
   ]
  },
  {
   "cell_type": "code",
   "execution_count": 5,
   "metadata": {},
   "outputs": [
    {
     "data": {
      "text/plain": [
       "(800, 400)"
      ]
     },
     "execution_count": 5,
     "metadata": {},
     "output_type": "execute_result"
    }
   ],
   "source": [
    "render_size(800, 400) # Khepri backends size"
   ]
  },
  {
   "cell_type": "markdown",
   "metadata": {},
   "source": [
    "__Outlining__\n",
    "\n",
    "The following macro allows you to use outlining in this notebook. `avoid_tests`, when set to true, will allow you to run the run the entire notebook skipping intermediate tests. When set to false, you may run the tests spread through the document, which illustrate the program's functions."
   ]
  },
  {
   "cell_type": "code",
   "execution_count": 6,
   "metadata": {},
   "outputs": [
    {
     "data": {
      "text/plain": [
       "@test (macro with 1 method)"
      ]
     },
     "execution_count": 6,
     "metadata": {},
     "output_type": "execute_result"
    }
   ],
   "source": [
    "avoid_tests = Parameter(true)\n",
    "\n",
    "macro test(expr...)\n",
    "  quote\n",
    "    if !avoid_tests() \n",
    "        begin\n",
    "            $(esc(expr...))\n",
    "        end\n",
    "    end\n",
    "  end\n",
    "end "
   ]
  },
  {
   "cell_type": "code",
   "execution_count": 7,
   "metadata": {},
   "outputs": [],
   "source": [
    "# avoid_tests(false)"
   ]
  },
  {
   "cell_type": "markdown",
   "metadata": {},
   "source": [
    "__Remove logs:__ avoid log messages as cell outputs."
   ]
  },
  {
   "cell_type": "code",
   "execution_count": 8,
   "metadata": {},
   "outputs": [
    {
     "data": {
      "text/plain": [
       "LogLevel(1)"
      ]
     },
     "execution_count": 8,
     "metadata": {},
     "output_type": "execute_result"
    }
   ],
   "source": [
    "Logging.disable_logging(Logging.Info)"
   ]
  },
  {
   "cell_type": "markdown",
   "metadata": {},
   "source": [
    "# Family properties"
   ]
  },
  {
   "cell_type": "markdown",
   "metadata": {},
   "source": [
    "This program used Khepri's BIM operations. This cell contains several BIM families whose defaults where modified to suit this project:"
   ]
  },
  {
   "cell_type": "code",
   "execution_count": 9,
   "metadata": {},
   "outputs": [],
   "source": [
    "copper_wall_fam = wall_family_element(default_wall_family())\n",
    "frame_width = 0.1\n",
    "frame_fam = column_family_element(default_column_family(), profile=rectangular_profile(frame_width, frame_width))\n",
    "pillar_fam = column_family_element(default_column_family(), profile=circular_profile(0.2))\n",
    "door_fam = door_family_element(default_door_family())\n",
    "ground_fam = slab_family_element(default_slab_family());"
   ]
  },
  {
   "cell_type": "markdown",
   "metadata": {},
   "source": [
    "# Slabs"
   ]
  },
  {
   "cell_type": "markdown",
   "metadata": {},
   "source": [
    "__Parameters explained__\n",
    "\n",
    "`pts_circle`\n",
    "\n",
    "* center = center of the circle\n",
    "* r = radius of the circle\n",
    "* alfa_init = beginning angle for the circular distribution of points\n",
    "* alfa_end = ending angle for the circular distribution of points\n",
    "* n = number of points created\n",
    "\n",
    "`isenberg_slab`\n",
    "\n",
    "* ri = slab interior radius\n",
    "* re = slab exterior radius\n",
    "* alfa_proj = circle angle at which the building's columns start to tilt. At this point the slab deviates from the circular path to accompany their movement\n",
    "* thick = slab thickness\n",
    "* is_first = boolean value: is it the first slab? The base slab of the building is the only one whose shape changes at the alfa_proj angle to accompany the tilted columns\n",
    "\n",
    "`slabs`\n",
    "\n",
    "* floor_h = floor height\n",
    "* floors = number of floors of the building\n"
   ]
  },
  {
   "cell_type": "markdown",
   "metadata": {},
   "source": [
    "| Deault slab                           | First slab                  |\n",
    "|--------------------------------------------------------|------------------------------------------------------|\n",
    "| <img src=\"./figures/slabs_up.png\" width=\"350\"> | <img src=\"./figures/slabs_1srt.png\" width=\"430\"> |"
   ]
  },
  {
   "cell_type": "markdown",
   "metadata": {},
   "source": [
    "This function distributes points in a circular fashion:"
   ]
  },
  {
   "cell_type": "code",
   "execution_count": 10,
   "metadata": {},
   "outputs": [
    {
     "data": {
      "text/plain": [
       "pts_circle (generic function with 1 method)"
      ]
     },
     "execution_count": 10,
     "metadata": {},
     "output_type": "execute_result"
    }
   ],
   "source": [
    "pts_circle(center, r, alfa_init, alfa_end, n)=\n",
    "    [center+vpol(r, alfa) for alfa in division(alfa_init, alfa_end, n)]"
   ]
  },
  {
   "cell_type": "code",
   "execution_count": 11,
   "metadata": {},
   "outputs": [],
   "source": [
    "@test begin\n",
    "\n",
    "    backend(notebook)\n",
    "    new_backend()\n",
    "\n",
    "    @manipulate for alfa_init = widget(0:pi/20:3pi/2, label=\"Initial angle\"),\n",
    "                    alfa_end = widget(pi/2:pi/20:2pi, label=\"Final angle\"),\n",
    "                    r = widget(0:0.1:10, label=\"Circle radius\")\n",
    "                    delete_all_shapes()\n",
    "                    pts = pts_circle(u0(), r, alfa_init, alfa_end, 20)\n",
    "                    spline(pts)\n",
    "    end\n",
    "    \n",
    "end "
   ]
  },
  {
   "cell_type": "markdown",
   "metadata": {},
   "source": [
    "Expected result:\n",
    "\n",
    "<img src=\"./plots/pts_circle_sliders.png\" width=\"800\">"
   ]
  },
  {
   "cell_type": "markdown",
   "metadata": {},
   "source": [
    "This function creates one circular slab only. The slab has a C shape, with 2 lists of circular locations as contour:"
   ]
  },
  {
   "cell_type": "code",
   "execution_count": 12,
   "metadata": {},
   "outputs": [
    {
     "data": {
      "text/plain": [
       "isenberg_slab (generic function with 2 methods)"
      ]
     },
     "execution_count": 12,
     "metadata": {},
     "output_type": "execute_result"
    }
   ],
   "source": [
    "isenberg_slab(center, ri, re, alfa_init, alfa_proj, alfa_end, n, is_first=false) =\n",
    "    let pts_in = pts_circle(center, ri, alfa_init, alfa_end, n)\n",
    "        pts_out = pts_circle(center, re, alfa_init, alfa_end, n)\n",
    "        pts_out_proj = pts_circle(center, re, alfa_init, alfa_proj, n)\n",
    "        p_tang = center+vcyl(re, alfa_proj, 0) # tangent point at the beginig of the projection\n",
    "        amplitude = alfa_end-alfa_proj\n",
    "        distance = amplitude*re/(pi/2) # rule of 3 for the distance\n",
    "        v = vpol(distance, alfa_proj + amplitude) # normal the initial angle of the projection\n",
    "        is_first ?\n",
    "        line([pts_out_proj..., p_tang+v, pts_out[end], reverse(pts_in)..., pts_out_proj[1]]) :\n",
    "                line([pts_out..., reverse(pts_in)..., pts_out[1]])\n",
    "    end"
   ]
  },
  {
   "cell_type": "code",
   "execution_count": 13,
   "metadata": {},
   "outputs": [],
   "source": [
    "@test begin\n",
    "\n",
    "    backend(notebook)\n",
    "    new_backend()\n",
    "    \n",
    "    @manipulate for alfa_init = widget(0:pi/20:pi/2, label=\"Initial angle\"),\n",
    "                    alfa_proj = widget(pi/4:pi/20:3pi/2, label=\"Projection angle\"),\n",
    "                    alfa_end = widget(pi/2:pi/20:2pi, label=\"Final angle\"),\n",
    "                    ri = widget(0:0.1:5, label=\"Inner radius\"),\n",
    "                    re = widget(7:0.1:10, label=\"Outer radius\")\n",
    "                    delete_all_shapes()\n",
    "                    isenberg_slab(u0(), ri, re, alfa_init, alfa_proj, alfa_end, 30)\n",
    "    end\n",
    "    \n",
    "end "
   ]
  },
  {
   "cell_type": "markdown",
   "metadata": {},
   "source": [
    "Expected result:\n",
    "<img src=\"./plots/isenberg_slab_false.png\" width=\"800\">"
   ]
  },
  {
   "cell_type": "code",
   "execution_count": 14,
   "metadata": {},
   "outputs": [],
   "source": [
    "@test begin\n",
    "\n",
    "    backend(notebook)\n",
    "    new_backend()\n",
    "    \n",
    "    @manipulate for alfa_init = widget(0:pi/20:pi/2, label=\"Initial angle\"),\n",
    "                    alfa_proj = widget(pi/4:pi/20:3pi/2, label=\"Projection angle\"),\n",
    "                    alfa_end = widget(pi/2:pi/20:2pi, label=\"Final angle\"),\n",
    "                    ri = widget(0:0.1:5, label=\"Inner radius\"),\n",
    "                    re = widget(7:0.1:10, label=\"Outer radius\")\n",
    "                    delete_all_shapes()\n",
    "                    isenberg_slab(u0(), ri, re, alfa_init, alfa_proj, alfa_end, 30, true)\n",
    "    end\n",
    "    \n",
    "    \n",
    "end "
   ]
  },
  {
   "cell_type": "markdown",
   "metadata": {},
   "source": [
    "Expected result:\n",
    "<img src=\"./plots/isenberg_slab_true.png\" width=\"800\">"
   ]
  },
  {
   "cell_type": "code",
   "execution_count": 15,
   "metadata": {},
   "outputs": [
    {
     "data": {
      "text/plain": [
       "isenberg_slab (generic function with 3 methods)"
      ]
     },
     "execution_count": 15,
     "metadata": {},
     "output_type": "execute_result"
    }
   ],
   "source": [
    "isenberg_slab(center, ri, re, alfa_init, alfa_proj, alfa_end, thick, n, is_first=false) =\n",
    "    let level = cz(center),\n",
    "        center = center-vz(level),\n",
    "        pts_in = pts_circle(center, ri, alfa_init, alfa_end, n)\n",
    "        pts_out = pts_circle(center, re, alfa_init, alfa_end, n)\n",
    "        pts_out_proj = pts_circle(center, re, alfa_init, alfa_proj, n)\n",
    "        p_tang = center+vcyl(re, alfa_proj, 0) # tangent point at the beginig of the projection\n",
    "        amplitude = alfa_end-alfa_proj\n",
    "        distance = amplitude*re/(pi/2) # rule of 3 for the distance\n",
    "        v = vpol(distance, alfa_proj + amplitude) # normal the initial angle of the projection\n",
    "        default_slab_family(slab_family_element(default_slab_family(), thickness=thick))\n",
    "        is_first ?\n",
    "            slab(closed_polygonal_path([pts_out_proj..., p_tang+v, pts_out[end], reverse(pts_in)...]), level) :\n",
    "                slab(closed_polygonal_path([pts_out..., reverse(pts_in)...]), level)\n",
    "    end"
   ]
  },
  {
   "cell_type": "markdown",
   "metadata": {},
   "source": [
    "This function distributes circular slabs along the building's height:"
   ]
  },
  {
   "cell_type": "code",
   "execution_count": 16,
   "metadata": {},
   "outputs": [
    {
     "data": {
      "text/plain": [
       "slabs (generic function with 1 method)"
      ]
     },
     "execution_count": 16,
     "metadata": {},
     "output_type": "execute_result"
    }
   ],
   "source": [
    "slabs(center, ri, re, alfa_init, alfa_proj, alfa_end, thick, floor_h, floors, n) =\n",
    "    let h = floor_h\n",
    "        isenberg_slab(center, ri, re, alfa_init, alfa_proj, alfa_end, thick, n, true)\n",
    "        for i in 1:floors\n",
    "            isenberg_slab(center+vz(h*i), ri, re, alfa_init, alfa_proj, alfa_end, thick, n, false)\n",
    "        end\n",
    "    end"
   ]
  },
  {
   "cell_type": "code",
   "execution_count": 17,
   "metadata": {},
   "outputs": [],
   "source": [
    "@test begin\n",
    "\n",
    "    backend(meshcat)\n",
    "    new_backend()\n",
    "\n",
    "    @manipulate for alfa_init = widget(0:pi/20:3pi/2, label=\"Initial angle\"),\n",
    "                    alfa_end = widget(pi/2:pi/20:2pi, label=\"Final angle\"),\n",
    "                    ri = widget(0:0.1:5, label=\"Inner radius\"),\n",
    "                    re = widget(7:0.1:15, label=\"Outer radius\"),\n",
    "                    floor_h = widget(1:0.1:3, label=\"Floor Height\"),\n",
    "                    floors = widget(1:1:5, label=\"Number of floors\")\n",
    "                    delete_all_shapes()\n",
    "                    slabs(u0(), ri, re, alfa_init, alfa_end-pi/2, alfa_end, 0.1, floor_h, floors, 30)\n",
    "    end\n",
    "\n",
    "end "
   ]
  },
  {
   "cell_type": "markdown",
   "metadata": {},
   "source": [
    "Expected result:\n",
    "<img src=\"./plots/slabs.png\" width=\"800\">"
   ]
  },
  {
   "cell_type": "markdown",
   "metadata": {},
   "source": [
    "# Beams"
   ]
  },
  {
   "cell_type": "markdown",
   "metadata": {},
   "source": [
    "## Profiles"
   ]
  },
  {
   "cell_type": "markdown",
   "metadata": {},
   "source": [
    "__Parameters explained__\n",
    "\n",
    "`isenberg_beam`\n",
    "\n",
    "* p1 & p2 points define the beam's axis\n",
    "* dx & dy are the beam's profile width and height, respectively\n",
    "* alfa = profile rotation around the beam's axis\n",
    "* bool = true for small beams, which use a centered rectangular profile\n",
    "* bool = false for tilted/large beams, which use a bottom-aligned rectangular profile"
   ]
  },
  {
   "cell_type": "markdown",
   "metadata": {},
   "source": [
    "This function creates a special profile to use in column or beam families. The rectangular profile will always be placed above the column/beam's axis:"
   ]
  },
  {
   "cell_type": "code",
   "execution_count": 18,
   "metadata": {},
   "outputs": [
    {
     "data": {
      "text/plain": [
       "bottom_aligned_rectangular_profile (generic function with 3 methods)"
      ]
     },
     "execution_count": 18,
     "metadata": {},
     "output_type": "execute_result"
    }
   ],
   "source": [
    "bottom_aligned_rectangular_profile(Width::Real=1, Height::Real=1; width::Real=Width, height::Real=Height) =\n",
    "  rectangular_path(xy(-width/2, 0), width, height)"
   ]
  },
  {
   "cell_type": "markdown",
   "metadata": {},
   "source": [
    "This function creates a beam for the Isenberg project. Given two random location is space, it places a free_columns object between them, with a profile of dx width and dy height, and rotated alfa radians. The boolean value decides the family that will be used (centered profile or bottom aligned profile):"
   ]
  },
  {
   "cell_type": "code",
   "execution_count": 19,
   "metadata": {},
   "outputs": [
    {
     "data": {
      "text/plain": [
       "isenberg_beam (generic function with 2 methods)"
      ]
     },
     "execution_count": 19,
     "metadata": {},
     "output_type": "execute_result"
    }
   ],
   "source": [
    "isenberg_beam(p1, p2, dx, dy, alfa, bool=true) =\n",
    "    let fam = bool ?\n",
    "               column_family_element(default_column_family(), profile=rectangular_profile(dx, dy)) :\n",
    "                column_family_element(default_column_family(), profile=bottom_aligned_rectangular_profile(dx, dy))\n",
    "        free_column(p1, p2, alfa, family=fam)\n",
    "    end"
   ]
  },
  {
   "cell_type": "markdown",
   "metadata": {},
   "source": [
    "| Centered rectangular profile                           |    | Bottom-aligned rectangular profile                   |\n",
    "|--------------------------------------------------------|    |------------------------------------------------------|\n",
    "| <img src=\"./figures/centered_profile.png\" width=\"300\"> | <img width=\"100\"> | <img src=\"./figures/bottom_profile.png\" width=\"300\"> |"
   ]
  },
  {
   "cell_type": "markdown",
   "metadata": {},
   "source": [
    "This function creates a small Isenberg beam, using a rectangular profile centered in the beam's axis:"
   ]
  },
  {
   "cell_type": "code",
   "execution_count": 20,
   "metadata": {},
   "outputs": [
    {
     "data": {
      "text/plain": [
       "small_beam (generic function with 1 method)"
      ]
     },
     "execution_count": 20,
     "metadata": {},
     "output_type": "execute_result"
    }
   ],
   "source": [
    "small_beam(p1, p2, alfa) = isenberg_beam(p1, p2, beam_width, s_beam_lenght, alfa)"
   ]
  },
  {
   "cell_type": "markdown",
   "metadata": {},
   "source": [
    "This function creates a large Isenberg beam, with variable profile height, using a bottom-aligned profile:"
   ]
  },
  {
   "cell_type": "code",
   "execution_count": 21,
   "metadata": {},
   "outputs": [
    {
     "data": {
      "text/plain": [
       "large_beam (generic function with 1 method)"
      ]
     },
     "execution_count": 21,
     "metadata": {},
     "output_type": "execute_result"
    }
   ],
   "source": [
    "large_beam(p1, p2, dy) = isenberg_beam(p1, p2, beam_width, dy, pi, false)"
   ]
  },
  {
   "cell_type": "markdown",
   "metadata": {},
   "source": [
    "## Beam sets"
   ]
  },
  {
   "cell_type": "markdown",
   "metadata": {},
   "source": [
    "__Parameters explained__\n",
    "\n",
    "`outer_beams`\n",
    "\n",
    "* center = center of the circle along which  the beams are placed\n",
    "* h = beam height\n",
    "* r = radius of the circle along which  the beams are placed\n",
    "* alfa_init = beginning angle for the circular distribution\n",
    "* alfa_end = ending angle for the circular distribution\n",
    "* n = number of beams created from alfa_init to alfa_end\n",
    "\n",
    "`outer_beam_locs`\n",
    "\n",
    "* large beams have a varying profile heigh, which increased as the beams get progressevly tilted along the façade\n",
    "* d_min = min beam profile height\n",
    "* d_max = maximum profile height\n",
    "\n"
   ]
  },
  {
   "cell_type": "markdown",
   "metadata": {},
   "source": [
    "| Outer/small beams                           |  \n",
    "|--------------------------------------------------------| \n",
    "| <img src=\"./figures/outer_beams.png\" width=\"800\"> |"
   ]
  },
  {
   "cell_type": "markdown",
   "metadata": {},
   "source": [
    "This function creates an array of N vertical small squared beams from alfa_init to alfa_end:"
   ]
  },
  {
   "cell_type": "code",
   "execution_count": 22,
   "metadata": {},
   "outputs": [
    {
     "data": {
      "text/plain": [
       "outer_beams (generic function with 1 method)"
      ]
     },
     "execution_count": 22,
     "metadata": {},
     "output_type": "execute_result"
    }
   ],
   "source": [
    "outer_beams(center, h, r, alfa_init, alfa_end, n) =\n",
    "    let pts_base = pts_circle(center, r, alfa_init, alfa_end, n)\n",
    "        pts_top = pts_circle(center+vz(h), r, alfa_init, alfa_end, n)\n",
    "        alfas = division(alfa_init, alfa_end, n)\n",
    "        for (p,q,alfa) in zip(pts_base, pts_top, alfas)\n",
    "            small_beam(p, q, alfa)\n",
    "        end\n",
    "    end"
   ]
  },
  {
   "cell_type": "code",
   "execution_count": 23,
   "metadata": {},
   "outputs": [],
   "source": [
    "@test begin\n",
    "    \n",
    "    backend(meshcat)\n",
    "    new_backend()\n",
    "    s_beam_lenght = .4\n",
    "    @manipulate for alfa_init = widget(0:pi/20:3pi/2, label=\"Initial angle\"),\n",
    "                    alfa_end = widget(pi/2:pi/20:2pi, label=\"Final angle\"),\n",
    "                    ri = widget(0:0.1:5, label=\"Inner radius\"),\n",
    "                    re = widget(7:0.1:15, label=\"Outer radius\"),\n",
    "                    floor_h = widget(1:0.1:3, label=\"Floor Height\"),\n",
    "                    floors = widget(1:1:5, label=\"Number of floors\"),\n",
    "                    beams = widget(10:1:30, label=\"Number of beams\")\n",
    "        \n",
    "                    delete_all_shapes()\n",
    "                    slabs(u0(), ri, re, alfa_init, alfa_end-pi/2, alfa_end, 0.1, floor_h, floors, 30)\n",
    "                    outer_beams(u0(), floor_h*floors, re, alfa_init, alfa_end, beams)\n",
    "    end\n",
    "end"
   ]
  },
  {
   "cell_type": "markdown",
   "metadata": {},
   "source": [
    "Expected result:\n",
    "<img src=\"./plots/small_beams.png\" width=\"800\">"
   ]
  },
  {
   "cell_type": "markdown",
   "metadata": {},
   "source": [
    "__Point projection__\n",
    "\n",
    "* p_tang is the base point of the last straight column created. From this point on, columns start to tilt and enlarge.\n",
    "* the base points for the large beams - `pts_base_line`- are created by a simple for cycle: p_tang is successively moved along a tangent line crossing the circle at p_tang, until N locations have been created in the given distance.\n",
    "* this distance is calculated by a rule of 3 for the amplitude. If the amplitude where pi/2 the distance would be the circle's radius. Gicen the current amplitude the rule of 3 calculates the distance.\n",
    "* the top points for the large beams - `pts_top_proj`- are calculated by projecting the linear point below to the circle above. For that we use triangle equivalence rules.\n",
    "\n",
    "The image below explains how we derived the function `proj_angle(dist, radius)`:\n",
    "\n",
    "* alfa is calculated based on the circle's radius (R - fixed measure) and the current distance (D - the distance of the point to be projected). \n",
    "* For each of the distances (D's) we add a cylindrical vector (+vcyl) to the center point (C), with 3 parameters: vcyl(r, angle, h). \n",
    "* r is the circle raius. \n",
    "* The angle is the initial angle for this part of the circle (alfa_init) plus the calculated proj_angle\n",
    "* h id the building height"
   ]
  },
  {
   "cell_type": "markdown",
   "metadata": {},
   "source": [
    "| Tilted beams | How to project linear points to a circle |  \n",
    "|---------------|-----------------------------------------| \n",
    "| <img src=\"./drawings/tilted_beams.jpg\" width=\"250\"> | <img src=\"./drawings/project_func.png\" width=\"550\"> |\n",
    "\n",
    "| Straight to tilted beams | Isenberg section and plan |\n",
    "|--------------------------|---------------------------|\n",
    "| <img src=\"./figures/beams_snt.png\" width=\"400\"> | <img src=\"./figures/plan_section.png\" width=\"400\"> |"
   ]
  },
  {
   "cell_type": "markdown",
   "metadata": {},
   "source": [
    "__Local function definitions__\n",
    "\n",
    "`push` is the minimum distance we must set the locations apart from the beam's axis in order for the metal frames not to be swallowed by the beams\n",
    "\n",
    "`move_list` moves points with a distance equivalent to the space between beams, minus the push\n",
    "\n",
    "`mv` moves points (forward or backwards dependin on the op sign) with a distance equivalent to the push"
   ]
  },
  {
   "cell_type": "code",
   "execution_count": 24,
   "metadata": {},
   "outputs": [
    {
     "data": {
      "text/plain": [
       "outer_beam_locs (generic function with 1 method)"
      ]
     },
     "execution_count": 24,
     "metadata": {},
     "output_type": "execute_result"
    }
   ],
   "source": [
    "outer_beam_locs(center, h, r, alfa_init, alfa_end, d_min, d_max, n)=\n",
    "    let proj_angle(dist, radius) = asin(dist/radius)\n",
    "        p_tang = center+vpol(r, alfa_init) # tangent point at the beginig of the projection\n",
    "        amplitude = alfa_end-alfa_init\n",
    "        distance = amplitude*r/(pi/2) # rule of 3 for the distance\n",
    "        v = vpol(1, alfa_init + amplitude) # normal the initial angle of the projection\n",
    "        push = d_min/2+frame_width/2 # for the metal frame to be visible (not inside the beams)\n",
    "        move_list(lst) = map(p -> p+v*(distance/n-push), lst)\n",
    "        mv(lst, op) = map(p -> p+v*op(push), lst)\n",
    "        v_psi(p, q) = π/2 -π/10 - sph_psi(q - p)\n",
    "\n",
    "        pts_base_line = [p_tang+v*d for d in division(0, distance, n)]\n",
    "        pts_top_proj = [center+vcyl(r, alfa_init+proj_angle(d, distance), h) for d in division(0, distance, n)]\n",
    "\n",
    "        current_backend() == autocad || current_backend() == rhino ?\n",
    "            pts_glass = [p+vz(dy) for (p,dy) in zip(pts_base_line, division(d_min, d_max*.9, n))] :\n",
    "            pts_glass = [p + vsph(dy, alfa_init, v_psi(p, q)) for (p, q, dy)\n",
    "                 in zip(pts_base_line, pts_top_proj, division(1e-9, d_max - d_min, n))]\n",
    "\n",
    "        pts_base_line_mv = mv(pts_base_line, +)\n",
    "        pts_top_proj_mv = mv(pts_top_proj, +)\n",
    "        pts_glass_mv = mv(pts_glass, +)\n",
    "        pts_base_move = move_list(pts_base_line)\n",
    "        pts_top_move = move_list(pts_top_proj)\n",
    "        pts_glass_move = move_list(pts_glass)\n",
    "        pts_top_proj_next = mv(pts_top_proj, -)\n",
    "\n",
    "        #RETURN:\n",
    "        [pts_base_line, pts_base_line_mv, pts_base_move,\n",
    "        pts_top_proj, pts_top_proj_mv, pts_top_move,\n",
    "        pts_glass_mv, pts_glass_move, pts_top_proj_next]\n",
    "    end"
   ]
  },
  {
   "cell_type": "markdown",
   "metadata": {},
   "source": [
    "__Outer Beam Locations' Array__\n",
    "\n",
    "This function calculates all the locations associated with the large beams. Several functions will feed from the array of arrays that this one returns. The output array contains:\n",
    "\n",
    "* pts_base_line = bottom points for large beams\n",
    "* pts_top_proj = top points for large beams\n",
    "\n",
    "\n",
    "* pts_base_move = bottom points projected onto the next beam, will be used to create glass panels between beams\n",
    "* pts_top_move = top points projected onto the next beam, will be used to create glass panels between beams\n",
    "\n",
    "\n",
    "* pts_glass_mv = intermediate points (bottom point lifted in z) for glass panels\n",
    "* pts_glass_move = intermediate points for galss panels projected onto the next beam\n",
    "\n",
    "\n",
    "* pts_base_line_mv = bottom points slightly desviated forward, will be used to create glass panels between beams\n",
    "* pts_top_proj_mv = top points slightly desviated forward, will be used to create glass panels between beams\n",
    "* pts_top_proj_next = top points slightly desviated backward, will be used to close the glass panels between beams (need a last point repetition to create a closed panel"
   ]
  },
  {
   "cell_type": "code",
   "execution_count": 25,
   "metadata": {},
   "outputs": [],
   "source": [
    "@test begin\n",
    "\n",
    "    backend(notebook)\n",
    "    new_backend()\n",
    "    \n",
    "    @manipulate for alfa_init = widget(0:pi/20:pi, label=\"Initial projection angle\"),\n",
    "                    alfa_end = widget(pi/2:pi/20:3pi/2, label=\"Final angle\")\n",
    "                    delete_all_shapes()\n",
    "                    r=3\n",
    "                    locs=outer_beam_locs(u0(), 2, r, alfa_init, alfa_end, 1, 2, 20)\n",
    "        \n",
    "                    line(pts_circle(u0(), r, alfa_init-pi, alfa_end, 20)) # base slab\n",
    "                    line(locs[1]) # pts_base_line\n",
    "                    line(locs[4]) # pts_top_proj\n",
    "                    line.(locs[1], locs[4]) #beam lines\n",
    "    end\n",
    "  \n",
    "end"
   ]
  },
  {
   "cell_type": "markdown",
   "metadata": {},
   "source": [
    "Expected result:\n",
    "<img src=\"./plots/proj_points_beams.png\" width=\"800\">"
   ]
  },
  {
   "cell_type": "code",
   "execution_count": 26,
   "metadata": {},
   "outputs": [],
   "source": [
    "@test begin\n",
    "\n",
    "    backend(notebook)\n",
    "    new_backend()\n",
    "    \n",
    "    @manipulate for alfa_init = widget(0:pi/20:pi, label=\"Initial projection angle\"),\n",
    "                    alfa_end = widget(pi/2:pi/20:3pi/2, label=\"Final angle\")\n",
    "                    delete_all_shapes()\n",
    "                    r=3\n",
    "                    locs=outer_beam_locs(u0(), 2, r, alfa_init, alfa_end, 1, 2, 20)\n",
    "        \n",
    "                    line(pts_circle(u0(), r, alfa_init-pi, alfa_end, 20)) # base slab\n",
    "                    line(locs[1]) # pts_base_line\n",
    "                    line(locs[2]) # pts_base_line_mv\n",
    "                    line(locs[3]) # pts_base_move\n",
    "                    line(locs[4]) # pts_top_proj\n",
    "                    line(locs[5]) # pts_top_proj_mv\n",
    "                    line(locs[6]) # pts_top_move\n",
    "                    line(locs[6]) # pts_glass_mv\n",
    "                    line(locs[6]) # pts_glass_move\n",
    "                    line(locs[6]) # pts_top_proj_nex\n",
    "    end\n",
    "  \n",
    "end"
   ]
  },
  {
   "cell_type": "markdown",
   "metadata": {},
   "source": [
    "Expected result:\n",
    "<img src=\"./plots/proj_points_mvs.png\" width=\"800\">"
   ]
  },
  {
   "cell_type": "markdown",
   "metadata": {},
   "source": [
    "This function creates beams with varying widths along two lists of points, which are provided to the function in one joint array:"
   ]
  },
  {
   "cell_type": "code",
   "execution_count": 27,
   "metadata": {},
   "outputs": [
    {
     "data": {
      "text/plain": [
       "large_outer_beams_gen (generic function with 1 method)"
      ]
     },
     "execution_count": 27,
     "metadata": {},
     "output_type": "execute_result"
    }
   ],
   "source": [
    "large_outer_beams_gen(list, d_min, d_max, n)=\n",
    "    let pts_base_line = list[1][2:end]\n",
    "        pts_top_proj = list[4][2:end]\n",
    "        dys = division(d_min, d_max, n)\n",
    "        for (p, q, dy) in zip(pts_base_line, pts_top_proj, dys)\n",
    "            large_beam(p, q, dy)\n",
    "        end\n",
    "    end"
   ]
  },
  {
   "cell_type": "markdown",
   "metadata": {},
   "source": [
    "This function provides `large_outer_beams_gen` with the two lists of points required to make the tilted beams of Isenberg:"
   ]
  },
  {
   "cell_type": "code",
   "execution_count": 28,
   "metadata": {},
   "outputs": [
    {
     "data": {
      "text/plain": [
       "large_outer_beams (generic function with 1 method)"
      ]
     },
     "execution_count": 28,
     "metadata": {},
     "output_type": "execute_result"
    }
   ],
   "source": [
    "large_outer_beams(center, h, r, alfa_init, alfa_end, d_min, d_max, n)=\n",
    "    let lst = outer_beam_locs(center, h, r, alfa_init, alfa_end, d_min, d_max, n)\n",
    "        large_outer_beams_gen(lst, d_min, d_max, n)\n",
    "    end"
   ]
  },
  {
   "cell_type": "code",
   "execution_count": 29,
   "metadata": {},
   "outputs": [],
   "source": [
    "@test begin\n",
    "\n",
    "    backend(meshcat)\n",
    "    new_backend()\n",
    "    beam_width = .1\n",
    "    @manipulate for alfa_init = widget(0:pi/20:pi, label=\"Initial projection angle\"),\n",
    "                    alfa_end = widget(pi/2:pi/20:3pi/2, label=\"Final angle\")\n",
    "                    delete_all_shapes()        \n",
    "                    large_outer_beams(u0(), 3, 5, alfa_init, alfa_end, .2, 1, 10)\n",
    "    end\n",
    "  \n",
    "end"
   ]
  },
  {
   "cell_type": "markdown",
   "metadata": {},
   "source": [
    "Expected result:\n",
    "<img src=\"./plots/beams.png\" width=\"800\">"
   ]
  },
  {
   "cell_type": "code",
   "execution_count": 30,
   "metadata": {},
   "outputs": [],
   "source": [
    "@test begin\n",
    "   \n",
    "    backend(meshcat)\n",
    "    new_backend()\n",
    "    s_beam_lenght = .4\n",
    "    @manipulate for alfa_init = widget(0:pi/20:3pi/2, label=\"Initial angle\"),\n",
    "                    alfa_end = widget(pi/2:pi/20:2pi, label=\"Final angle\"),\n",
    "                    ri = widget(0:0.1:5, label=\"Inner radius\"),\n",
    "                    re = widget(7:0.1:15, label=\"Outer radius\"),\n",
    "                    floor_h = widget(1:0.1:3, label=\"Floor Height\"),\n",
    "                    floors = widget(1:1:5, label=\"Number of floors\"),\n",
    "                    l_beams = widget(10:1:15, label=\"Number of large beams\"),\n",
    "                    s_beams = widget(10:1:60, label=\"Number of small beams\")\n",
    "        \n",
    "                    delete_all_shapes()\n",
    "                    slabs(u0(), ri, re, alfa_init, alfa_end-pi/2, alfa_end, 0.1, floor_h, floors, 30)\n",
    "                    outer_beams(u0(), floor_h*floors, re, alfa_init, alfa_end-pi/2, s_beams)\n",
    "                    large_outer_beams(u0(), floor_h*floors, re, alfa_end-pi/2, alfa_end, .2, 1, l_beams)\n",
    "    end\n",
    "end"
   ]
  },
  {
   "cell_type": "markdown",
   "metadata": {},
   "source": [
    "Expected result:\n",
    "<img src=\"./plots/large_beams.png\" width=\"800\">"
   ]
  },
  {
   "cell_type": "markdown",
   "metadata": {},
   "source": [
    "# Glass"
   ]
  },
  {
   "cell_type": "markdown",
   "metadata": {},
   "source": [
    "## Round curtain wall"
   ]
  },
  {
   "cell_type": "markdown",
   "metadata": {},
   "source": [
    "This function creates a round curtain wall from `alfa_init` to `alfa_end` angles, with `r` radius, covering the given number of `floors` starting from the `center`'s height:"
   ]
  },
  {
   "cell_type": "code",
   "execution_count": 31,
   "metadata": {},
   "outputs": [
    {
     "data": {
      "text/plain": [
       "straight_glass (generic function with 1 method)"
      ]
     },
     "execution_count": 31,
     "metadata": {},
     "output_type": "execute_result"
    }
   ],
   "source": [
    "straight_glass(center, r, alfa_init, alfa_end, floor_h, floors, n) =\n",
    "    let pts_base = pts_circle(center-vz(center.z), r, alfa_init, alfa_end, n)\n",
    "        amp = alfa_end-alfa_init\n",
    "        fam = curtain_wall_family_element(default_curtain_wall_family(), max_panel_dx=amp*r/n, max_panel_dy=floor_h)\n",
    "        curtain_wall(polygonal_path(pts_base), bottom_level=level(center.z), \n",
    "            top_level=level(center.z+floor_h*floors), family=fam)\n",
    "    end"
   ]
  },
  {
   "cell_type": "code",
   "execution_count": 32,
   "metadata": {},
   "outputs": [],
   "source": [
    "@test begin\n",
    "\n",
    "    backend(meshcat)\n",
    "    new_backend()\n",
    "    @manipulate for alfa_init = widget(0:pi/20:pi, label=\"Initial projection angle\"),\n",
    "                    alfa_end = widget(pi/2:pi/20:3pi/2, label=\"Final angle\")\n",
    "                    delete_all_shapes()        \n",
    "                    straight_glass(u0(), 4, alfa_init, alfa_end, 1, 3, 5) \n",
    "    end\n",
    "  \n",
    "end"
   ]
  },
  {
   "cell_type": "markdown",
   "metadata": {},
   "source": [
    "Expected result:\n",
    "<img src=\"./plots/curtain_wall.png\" width=\"800\">"
   ]
  },
  {
   "cell_type": "markdown",
   "metadata": {},
   "source": [
    "## Triangular curtain wall"
   ]
  },
  {
   "cell_type": "markdown",
   "metadata": {},
   "source": [
    "Given a list of points (closed polygon vertices), this function creates a polygonal glass panel surrounded by a thin metal framing all around:"
   ]
  },
  {
   "cell_type": "code",
   "execution_count": 33,
   "metadata": {},
   "outputs": [
    {
     "data": {
      "text/plain": [
       "isenberg_panel (generic function with 1 method)"
      ]
     },
     "execution_count": 33,
     "metadata": {},
     "output_type": "execute_result"
    }
   ],
   "source": [
    "isenberg_panel(pts)=\n",
    "    begin\n",
    "        panel(pts, family=default_panel_family())\n",
    "        for (p,q) in zip(pts, [pts[2:end]...,pts[1]])\n",
    "            free_column(p,q, family=frame_fam)\n",
    "        end\n",
    "    end"
   ]
  },
  {
   "cell_type": "code",
   "execution_count": 34,
   "metadata": {},
   "outputs": [],
   "source": [
    "@test begin\n",
    "\n",
    "    backend(meshcat)\n",
    "    new_backend()\n",
    "    @manipulate for radius = widget(1:1:5, label=\"Radius\"),\n",
    "                    sides = widget(1:1:10, label=\"Sides\"),\n",
    "                    angle = widget(1:1:20, label=\"Angle\")\n",
    "                    delete_all_shapes()        \n",
    "                    isenberg_panel(regular_polygon_vertices(sides, x(-10), radius, angle))\n",
    "                    isenberg_panel(regular_polygon_vertices(sides+2, x(0), radius, angle))\n",
    "                    isenberg_panel(regular_polygon_vertices(sides+5, x(10), radius, angle))\n",
    "                    end\n",
    "  \n",
    "end"
   ]
  },
  {
   "cell_type": "markdown",
   "metadata": {},
   "source": [
    "Expected result:\n",
    "<img src=\"./plots/glass_panels_polygons.png\" width=\"800\">"
   ]
  },
  {
   "cell_type": "markdown",
   "metadata": {},
   "source": [
    "Given Isenberg's main parameters, this function calculates the corners of the triangular glass entrance, and places a curtain wall between them:"
   ]
  },
  {
   "cell_type": "code",
   "execution_count": 35,
   "metadata": {},
   "outputs": [
    {
     "data": {
      "text/plain": [
       "triangle_glass (generic function with 1 method)"
      ]
     },
     "execution_count": 35,
     "metadata": {},
     "output_type": "execute_result"
    }
   ],
   "source": [
    "triangle_glass(center, h, r, alfa_init, alfa_end, d_min, d_max, n) =\n",
    "    let p1 = center+vpol(r, alfa_end)\n",
    "          p2 = p1+vz(h)\n",
    "          p3 = outer_beam_locs(center, h, r, alfa_init, alfa_end, d_min, d_max, n)[1][end]\n",
    "          v1 = (p3-p2)\n",
    "          v2 = (p3-p1)\n",
    "          v3 = (p1-p2)\n",
    "          ps_top(m) = [p2 + v1*d for d in division(0, 1, m, false)]\n",
    "          ps_bottom(m) = [p1 + v2*d for d in division(0, 1, m, false)]\n",
    "          ps_side(m) = [p2 + v3*d for d in division(0, 1, m, false)]\n",
    "       isenberg_panel([p1, p2, p3])\n",
    "       for (p, q) in zip(ps_top(n), ps_bottom(n))\n",
    "          free_column(p, q, family=frame_fam)\n",
    "       end\n",
    "       for (p, q) in zip(ps_top(6), ps_side(6))\n",
    "           distance(p, q)<1.0e-15 ? nothing : free_column(p, q, family=frame_fam)\n",
    "       end\n",
    "      end"
   ]
  },
  {
   "cell_type": "code",
   "execution_count": 36,
   "metadata": {},
   "outputs": [],
   "source": [
    "@test begin\n",
    "\n",
    "    backend(meshcat)\n",
    "    new_backend()\n",
    "    @manipulate for h = widget(1:1:10, label=\"Building height\")\n",
    "                    delete_all_shapes()        \n",
    "                    triangle_glass(u0(), h, 10, 0, pi/4, 1, 1, 10) \n",
    "    end\n",
    "  \n",
    "end"
   ]
  },
  {
   "cell_type": "markdown",
   "metadata": {},
   "source": [
    "Expected result:\n",
    "<img src=\"./plots/triangular_glass.png\" width=\"400\">"
   ]
  },
  {
   "cell_type": "code",
   "execution_count": 37,
   "metadata": {},
   "outputs": [],
   "source": [
    "@test begin\n",
    "   \n",
    "    backend(meshcat)\n",
    "    new_backend()\n",
    "    s_beam_lenght = .4\n",
    "    beam_width = .1\n",
    "    @manipulate for alfa_init = widget(0:pi/20:3pi/2, label=\"Initial angle\"),\n",
    "                    alfa_end = widget(pi/2:pi/20:2pi, label=\"Final angle\"),\n",
    "                    ri = widget(0:0.1:5, label=\"Inner radius\"),\n",
    "                    re = widget(7:0.1:15, label=\"Outer radius\"),\n",
    "                    floor_h = widget(1:0.1:3, label=\"Floor Height\"),\n",
    "                    floors = widget(1:1:5, label=\"Number of floors\"),\n",
    "                    l_beams = widget(10:1:15, label=\"Number of large beams\"),\n",
    "                    s_beams = widget(10:1:60, label=\"Number of small beams\")\n",
    "        \n",
    "                    delete_all_shapes()\n",
    "                    slabs(u0(), ri, re, alfa_init, alfa_end-pi/2, alfa_end, 0.1, floor_h, floors, 30)\n",
    "                    outer_beams(u0(), floor_h*floors, re, alfa_init, alfa_end-pi/2, s_beams)\n",
    "                    large_outer_beams(u0(), floor_h*floors, re, alfa_end-pi/2, alfa_end, .2, 1, l_beams)\n",
    "                    straight_glass(u0(), ri, alfa_init, alfa_end, floor_h, floors, 30)\n",
    "                    straight_glass(u0(), re, alfa_init, alfa_end, floor_h, floors, 30)\n",
    "                    triangle_glass(u0(), floor_h*floors, re, alfa_end-pi/2, alfa_end, .2, 1, 30)\n",
    "    end\n",
    "end"
   ]
  },
  {
   "cell_type": "markdown",
   "metadata": {},
   "source": [
    "Expected result:\n",
    "<img src=\"./plots/vert_glass2.png\" width=\"800\">"
   ]
  },
  {
   "cell_type": "markdown",
   "metadata": {},
   "source": [
    "## Tilted façade panels"
   ]
  },
  {
   "cell_type": "markdown",
   "metadata": {},
   "source": [
    "| Move points to create glass panels between beams |  \n",
    "|--------------------------------------------------------| \n",
    "| <img src=\"./drawings/outer_beam_locs.jpg\" width=\"300\"> |"
   ]
  },
  {
   "cell_type": "markdown",
   "metadata": {},
   "source": [
    "This function creates `isenberg_panel`s along the entire façade tilting, in between the large beams. It function uses the lists of points produced by the `outer_beam_locs` function:"
   ]
  },
  {
   "cell_type": "code",
   "execution_count": 38,
   "metadata": {},
   "outputs": [
    {
     "data": {
      "text/plain": [
       "large_beam_glass (generic function with 1 method)"
      ]
     },
     "execution_count": 38,
     "metadata": {},
     "output_type": "execute_result"
    }
   ],
   "source": [
    "large_beam_glass(center, h, r, alfa_init, alfa_end, d_min, d_max, n) =\n",
    "    let beam_locs = outer_beam_locs(center, h, r, alfa_init, alfa_end, d_min, d_max, n)\n",
    "    pts_base_line_mv = beam_locs[2][1:end-1] # e vertice\n",
    "    pts_top_proj_mv = beam_locs[5][1:end-1] # a vertice\n",
    "    pts_base_move = beam_locs[3][1:end-1] # f vertice\n",
    "    pts_top_move = beam_locs[6][1:end-1] # b vertice\n",
    "    pts_glass_mv = beam_locs[7][1:end-1] # d vertice\n",
    "    pts_glass_move = beam_locs[8][1:end-1] # c vertice\n",
    "    pts_top_proj_next = beam_locs[9][2:end] # next a vertice to make the triangular panel on top\n",
    "        for (a,b,c,d,e,f,a2) in zip(pts_top_proj_mv, pts_top_move,\n",
    "                                    pts_glass_move, pts_glass_mv,\n",
    "                                    pts_base_line_mv, pts_base_move,\n",
    "                                    pts_top_proj_next)\n",
    "            isenberg_panel([a, b, c, d])\n",
    "            isenberg_panel([c, d, e, f])\n",
    "            isenberg_panel([a, b, a2])\n",
    "        end\n",
    "    end"
   ]
  },
  {
   "cell_type": "code",
   "execution_count": 39,
   "metadata": {},
   "outputs": [],
   "source": [
    "@test begin\n",
    "\n",
    "    backend(meshcat)\n",
    "    new_backend()\n",
    "    @manipulate for h = widget(1:1:10, label=\"Building height\"),\n",
    "                    r = widget(5:1:10, label=\"Radius\")\n",
    "                    delete_all_shapes()        \n",
    "                    large_beam_glass(u0(), h, r, 0, pi/2, 0.1, 3, 10) \n",
    "    end\n",
    "  \n",
    "end"
   ]
  },
  {
   "cell_type": "markdown",
   "metadata": {},
   "source": [
    "Expected result:\n",
    "<img src=\"./plots/glass_panels.png\" width=\"800\">"
   ]
  },
  {
   "cell_type": "code",
   "execution_count": 40,
   "metadata": {},
   "outputs": [],
   "source": [
    "@test begin\n",
    "   \n",
    "    backend(meshcat)\n",
    "    new_backend()\n",
    "    s_beam_lenght = .4\n",
    "    beam_width = .2\n",
    "    @manipulate for alfa_init = widget(0:pi/20:3pi/2, label=\"Initial angle\"),\n",
    "                    alfa_end = widget(pi/2:pi/20:2pi, label=\"Final angle\"),\n",
    "                    ri = widget(0:0.1:5, label=\"Inner radius\"),\n",
    "                    re = widget(7:0.1:15, label=\"Outer radius\"),\n",
    "                    floor_h = widget(1:0.1:3, label=\"Floor Height\"),\n",
    "                    floors = widget(1:1:5, label=\"Number of floors\"),\n",
    "                    l_beams = widget(10:1:15, label=\"Number of large beams\"),\n",
    "                    s_beams = widget(10:1:60, label=\"Number of small beams\")\n",
    "        \n",
    "                    delete_all_shapes()\n",
    "                    slabs(u0(), ri, re, alfa_init, alfa_end-pi/2, alfa_end, 0.1, floor_h, floors, 30)\n",
    "                    outer_beams(u0(), floor_h*floors, re, alfa_init, alfa_end-pi/2, s_beams)\n",
    "                    large_outer_beams(u0(), floor_h*floors, re, alfa_end-pi/2, alfa_end, .2, 2, l_beams)\n",
    "                    straight_glass(u0(), ri, alfa_init, alfa_end, floor_h, floors, 30)\n",
    "                    straight_glass(u0(), re, alfa_init, alfa_end, floor_h, floors, 30)\n",
    "                    triangle_glass(u0(), floor_h*floors, re, alfa_end-pi/2, alfa_end, .2, 2, 30)\n",
    "                    large_beam_glass(u0(), floor_h*floors, re, alfa_end-pi/2, alfa_end, .2, 2, l_beams)\n",
    "    end\n",
    "end"
   ]
  },
  {
   "cell_type": "markdown",
   "metadata": {},
   "source": [
    "Expected result:\n",
    "<img src=\"./plots/tilted_beams.png\" width=\"800\">"
   ]
  },
  {
   "cell_type": "markdown",
   "metadata": {},
   "source": [
    "# Inner pillars"
   ]
  },
  {
   "cell_type": "markdown",
   "metadata": {},
   "source": [
    "| Pillar distribution inside the building: plan view |  \n",
    "|--------------------------------------------------------| \n",
    "| <img src=\"./drawings/pillar_params.jpg\" width=\"400\"> |"
   ]
  },
  {
   "cell_type": "markdown",
   "metadata": {},
   "source": [
    "This function creates a circular array of `n` cylindrical pillars:"
   ]
  },
  {
   "cell_type": "code",
   "execution_count": 41,
   "metadata": {},
   "outputs": [
    {
     "data": {
      "text/plain": [
       "pillar_line (generic function with 1 method)"
      ]
     },
     "execution_count": 41,
     "metadata": {},
     "output_type": "execute_result"
    }
   ],
   "source": [
    "pillar_line(center, z, h, r, alfa_init, alfa_end, n)=\n",
    "    for alfa in division(alfa_init, alfa_end, n, false)[2:end]\n",
    "        current_backend() == autocad || current_backend() == rhino ?\n",
    "            cylinder(center+vcyl(r, alfa, z), 0.2, center+vcyl(r, alfa, z+h)) :\n",
    "            column(xy(center.x,center.y)+vpol(r, alfa), 0, level(z), level(z+h), pillar_fam)\n",
    "    end"
   ]
  },
  {
   "cell_type": "code",
   "execution_count": 42,
   "metadata": {},
   "outputs": [],
   "source": [
    "@test begin\n",
    "\n",
    "    backend(meshcat)\n",
    "    new_backend()\n",
    "    @manipulate for alfa_init = widget(0:pi/20:3pi/2, label=\"Initial angle\"),\n",
    "                    alfa_end = widget(pi/2:pi/20:2pi, label=\"Final angle\"),\n",
    "                    h = widget(0:1:3, label=\"Pilar height\"),\n",
    "                    r = widget(1:0.1:5, label=\"Array Radius\"),\n",
    "                    z = widget(0:1:10, label=\"Level height\"),\n",
    "                    n = widget(0:1:20, label=\"Number of pillars\")\n",
    "                    delete_all_shapes()        \n",
    "                    pillar_line(u0(), z, h, r, alfa_init, alfa_end, n) \n",
    "    end\n",
    "end"
   ]
  },
  {
   "cell_type": "markdown",
   "metadata": {},
   "source": [
    "Expected result:\n",
    "<img src=\"./plots/pilar_line.png\" width=\"800\">"
   ]
  },
  {
   "cell_type": "markdown",
   "metadata": {},
   "source": [
    "This function creates `m` circular arrays of `n` cylindrical pillars:"
   ]
  },
  {
   "cell_type": "code",
   "execution_count": 43,
   "metadata": {},
   "outputs": [
    {
     "data": {
      "text/plain": [
       "pillar_lines (generic function with 1 method)"
      ]
     },
     "execution_count": 43,
     "metadata": {},
     "output_type": "execute_result"
    }
   ],
   "source": [
    "pillar_lines(center, z, h, inner_r, outer_r, alfa_init, alfa_end, n, m)=\n",
    "    for r in division(inner_r, outer_r, m-1)\n",
    "        pillar_line(center, z, h, r, alfa_init, alfa_end, n)\n",
    "    end"
   ]
  },
  {
   "cell_type": "code",
   "execution_count": 44,
   "metadata": {},
   "outputs": [],
   "source": [
    "@test begin\n",
    "    backend(meshcat)\n",
    "    new_backend()\n",
    "    pillar_lines(u0(), 0, 3, 5, 10, 0, pi, 10, 3) \n",
    "end"
   ]
  },
  {
   "cell_type": "markdown",
   "metadata": {},
   "source": [
    "Expected result:\n",
    "<img src=\"./plots/pilar_lines.png\" width=\"800\">"
   ]
  },
  {
   "cell_type": "markdown",
   "metadata": {},
   "source": [
    "This function distributes `m` circular arrays of `n` cylindrical pillars by the number of `floor`'s provided:"
   ]
  },
  {
   "cell_type": "code",
   "execution_count": 45,
   "metadata": {},
   "outputs": [
    {
     "data": {
      "text/plain": [
       "pillars_z (generic function with 1 method)"
      ]
     },
     "execution_count": 45,
     "metadata": {},
     "output_type": "execute_result"
    }
   ],
   "source": [
    "pillars_z(center, inner_r, outer_r, alfa_init, alfa_end, n, m, floor_h, floors)=\n",
    "    for z in division(0, floor_h*floors, floors, false)\n",
    "        pillar_lines(center, z, floor_h, inner_r, outer_r, alfa_init, alfa_end, n, m)\n",
    "    end"
   ]
  },
  {
   "cell_type": "code",
   "execution_count": 46,
   "metadata": {},
   "outputs": [],
   "source": [
    "@test begin\n",
    "   \n",
    "    backend(meshcat)\n",
    "    new_backend()\n",
    "    \n",
    "    alfa_init = 0\n",
    "    alfa_end = 3pi/2\n",
    "    ri = 5\n",
    "    re = 10\n",
    "    floor_h = 3\n",
    "    floors = 3\n",
    "    \n",
    "    delete_all_shapes()\n",
    "    slabs(u0(), ri, re, alfa_init, alfa_end, alfa_end, 0.1, floor_h, floors, 30)\n",
    "    pillars_z(u0(), ri, re, alfa_init, alfa_end, 10, 3, floor_h, floors)\n",
    "\n",
    "end"
   ]
  },
  {
   "cell_type": "markdown",
   "metadata": {},
   "source": [
    "Expected result:\n",
    "<img src=\"./plots/pilars_z.png\" width=\"600\">"
   ]
  },
  {
   "cell_type": "code",
   "execution_count": 47,
   "metadata": {},
   "outputs": [],
   "source": [
    "@test begin\n",
    "   \n",
    "    backend(meshcat)\n",
    "    new_backend()\n",
    "    \n",
    "    alfa_init = 0\n",
    "    alfa_end = 3pi/2\n",
    "    ri = 5\n",
    "    re = 15\n",
    "    floor_h = 2.5\n",
    "    floors = 3\n",
    "    l_beams = 12\n",
    "    s_beams = 35\n",
    "       \n",
    "    delete_all_shapes()\n",
    "    slabs(u0(), ri, re, alfa_init, alfa_end, alfa_end, 0.1, floor_h, floors, 30)\n",
    "    outer_beams(u0(), floor_h*floors, re, alfa_init, alfa_end-pi/2, s_beams)\n",
    "    large_outer_beams(u0(), floor_h*floors, re, alfa_end-pi/2, alfa_end, .2, 3, l_beams)\n",
    "    straight_glass(u0(), ri, alfa_init, alfa_end, floor_h, floors, 30)\n",
    "    straight_glass(u0(), re, alfa_init, alfa_end, floor_h, floors, 30)\n",
    "    triangle_glass(u0(), floor_h*floors, re, alfa_end-pi/2, alfa_end, .2, 2, 30)\n",
    "    large_beam_glass(u0(), floor_h*floors, re, alfa_end-pi/2, alfa_end, .2, 2, l_beams)\n",
    "    pillars_z(u0(), ri+1, re-1, alfa_init, alfa_end, 15, 5, floor_h, floors)\n",
    "\n",
    "end"
   ]
  },
  {
   "cell_type": "markdown",
   "metadata": {},
   "source": [
    "Expected result:\n",
    "<img src=\"./plots/pilars_in_building.png\" width=\"800\">"
   ]
  },
  {
   "cell_type": "markdown",
   "metadata": {},
   "source": [
    "# Walls"
   ]
  },
  {
   "cell_type": "markdown",
   "metadata": {},
   "source": [
    "| Room distribution scheme: plan for inner walls |  \n",
    "|-------------------------------------------------------| \n",
    "| <img src=\"./drawings/in_wall_params.jpg\" width=\"600\"> |"
   ]
  },
  {
   "cell_type": "markdown",
   "metadata": {},
   "source": [
    "## Outer walls"
   ]
  },
  {
   "cell_type": "markdown",
   "metadata": {},
   "source": [
    "This function creates a wall between points `p1` and `p2` with height `h` and thickness `thick`. The resulting wall belongs to the `copper_wall_fam` family, which should be attributed a copper-brick-like material:"
   ]
  },
  {
   "cell_type": "code",
   "execution_count": 48,
   "metadata": {},
   "outputs": [
    {
     "data": {
      "text/plain": [
       "isenberg_wall (generic function with 1 method)"
      ]
     },
     "execution_count": 48,
     "metadata": {},
     "output_type": "execute_result"
    }
   ],
   "source": [
    "isenberg_wall(p1, p2, h, thick) =\n",
    "  let vp = p2-p1,\n",
    "      level_z = p1.z,\n",
    "      (p1, p2) = (p1, p2).-vz(level_z)\n",
    "    wall([p1, p2], bottom_level=level(p1.z), top_level=level(h), family=copper_wall_fam)\n",
    "  end"
   ]
  },
  {
   "cell_type": "markdown",
   "metadata": {},
   "source": [
    "## Transversal inner walls"
   ]
  },
  {
   "cell_type": "markdown",
   "metadata": {},
   "source": [
    "__Parameters explained__\n",
    "\n",
    "`wall_trans_set`\n",
    "\n",
    "* center = center of the circle along which the beams are placed\n",
    "* z = floor height\n",
    "* alfa = angle at witch the transversal wall line is placed\n",
    "* inner_r = building's inner radius\n",
    "* outer_r = building's outer radius\n",
    "* corridor_w = corridor width\n",
    "* h = floor height\n",
    "* p_offset = distance between the outer wall and the first line of pillars\n",
    "* m_pillars = number of pillars across the floor (transversal to the façade)\n",
    "* broken = boolean value for full length wall (if false) or broken by corridors (if true)\n",
    "\n",
    "`wall_trans_floor`\n",
    "\n",
    "* alfa_init = beginning angle for the circular distribution\n",
    "* alfa_end = ending angle for the circular distribution\n",
    "* n_pillars = number of pillars across the floor (parallel to the façade)"
   ]
  },
  {
   "cell_type": "markdown",
   "metadata": {},
   "source": [
    "This function creates one set of walls transversal to the façade. Depending on the boolean value given to `broken` the function generates either (1) a big wall that crosses the floor from `p_out` to `p_wall_in` or (2) a broken wall across the floor, which corresponds to 3 aligned walls separated by 2 corridors. The former is used in the ground floor atriums only. The later scheme composes all upper floors."
   ]
  },
  {
   "cell_type": "code",
   "execution_count": 49,
   "metadata": {},
   "outputs": [
    {
     "data": {
      "text/plain": [
       "wall_trans_set (generic function with 1 method)"
      ]
     },
     "execution_count": 49,
     "metadata": {},
     "output_type": "execute_result"
    }
   ],
   "source": [
    "wall_trans_set(center, z, alfa, inner_r, outer_r, corridor_w, h, p_offset, m_pillars, broken)=\n",
    "    let p_in = center+vpol(inner_r, alfa)\n",
    "        p_out = center+vpol(outer_r, alfa)\n",
    "        v_in = vpol(1, alfa+pi)\n",
    "        v_out = vpol(1, alfa)\n",
    "        pillar_rs = division(inner_r+p_offset, outer_r-p_offset, m_pillars-1)\n",
    "        room_size = Int(floor(m_pillars/3))\n",
    "        p_wall_in = center +vpol(pillar_rs[1+room_size], alfa)\n",
    "        p_wall_out = center +vpol(pillar_rs[end-room_size], alfa)\n",
    "        p_wall_mid_in = p_wall_in+v_in*corridor_w\n",
    "        p_wall_mid_out = p_wall_out+v_out*corridor_w\n",
    "\n",
    "        with(default_level, level(z), default_level_to_level_height, h) do\n",
    "            broken ?\n",
    "                begin\n",
    "                    wall([p_in, p_wall_mid_in])\n",
    "                    wall([p_wall_in, p_wall_out])\n",
    "                    wall([p_wall_mid_out, p_out])\n",
    "                end :\n",
    "                wall([p_out, p_wall_in])\n",
    "        end\n",
    "    end"
   ]
  },
  {
   "cell_type": "code",
   "execution_count": 50,
   "metadata": {},
   "outputs": [],
   "source": [
    "@test begin\n",
    "    backend(meshcat)\n",
    "    new_backend()\n",
    "    \n",
    "    alfa_init = 0\n",
    "    alfa_end = 3pi/2\n",
    "    ri = 5\n",
    "    re = 15\n",
    "    floor_h = 2.5\n",
    "    floors = 3\n",
    "    l_beams = 12\n",
    "    s_beams = 35\n",
    "    n_pillars = 20\n",
    "    m_pillars = 4\n",
    "    \n",
    "    delete_all_shapes()\n",
    "    slabs(u0(), ri, re, alfa_init, alfa_end, alfa_end, 0.1, floor_h, 1, 30)\n",
    "    wall_trans_set(u0(), 0, 0, ri, re, 2, floor_h, 1, m_pillars, false)\n",
    "    wall_trans_set(u0(), 0, pi/4, ri, re, 2, floor_h, 1, m_pillars, true)\n",
    "end"
   ]
  },
  {
   "cell_type": "markdown",
   "metadata": {},
   "source": [
    "Expected result:\n",
    "<img src=\"./plots/wall_trans.png\" width=\"800\">"
   ]
  },
  {
   "cell_type": "markdown",
   "metadata": {},
   "source": [
    "This function creates `n_pillars` sets of walls transversal to the façade:"
   ]
  },
  {
   "cell_type": "code",
   "execution_count": 51,
   "metadata": {},
   "outputs": [
    {
     "data": {
      "text/plain": [
       "wall_trans_floor (generic function with 1 method)"
      ]
     },
     "execution_count": 51,
     "metadata": {},
     "output_type": "execute_result"
    }
   ],
   "source": [
    "wall_trans_floor(center, z, alfa_init, alfa_end, inner_r, outer_r, corridor_w, h, p_offset, n_pillars, m_pillars; broken=true)=\n",
    "    for alfa in division(alfa_init, alfa_end, n_pillars, false)[2:end]\n",
    "        wall_trans_set(center, z, alfa, inner_r, outer_r, corridor_w, h, p_offset, m_pillars, broken)\n",
    "    end"
   ]
  },
  {
   "cell_type": "code",
   "execution_count": 52,
   "metadata": {},
   "outputs": [],
   "source": [
    "@test begin  \n",
    "    backend(meshcat)\n",
    "    new_backend()\n",
    "    \n",
    "    alfa_init = 0\n",
    "    alfa_end = 3pi/2\n",
    "    ri = 5\n",
    "    re = 15\n",
    "    floor_h = 2.5\n",
    "    floors = 1\n",
    "    l_beams = 12\n",
    "    s_beams = 35\n",
    "    n_pillars = 20\n",
    "    m_pillars = 4\n",
    "    p_offset = 1\n",
    "    corridor_w = 2\n",
    "       \n",
    "    delete_all_shapes()\n",
    "\n",
    "    isenberg_slab(u0(), ri, re, alfa_init, alfa_end, alfa_end, 0.1, 30)\n",
    "    pillars_z(u0(), ri+p_offset, re-p_offset, alfa_init, alfa_end, n_pillars, m_pillars, floor_h, floors) \n",
    "    wall_trans_floor(u0(), 0, alfa_init, alfa_end, ri, re, corridor_w, floor_h, p_offset, n_pillars, m_pillars, broken=false)\n",
    "\n",
    "    isenberg_slab(x(35), ri, re, alfa_init, alfa_end, alfa_end, 0.1, 30)\n",
    "    pillars_z(x(35), ri+p_offset, re-p_offset, alfa_init, alfa_end, n_pillars, m_pillars, floor_h, floors) \n",
    "    wall_trans_floor(x(35), 0, alfa_init, alfa_end, ri, re, corridor_w, floor_h, p_offset, n_pillars, m_pillars)\n",
    "end"
   ]
  },
  {
   "cell_type": "markdown",
   "metadata": {},
   "source": [
    "Expected result:\n",
    "<img src=\"./plots/wall_plans.png\" width=\"800\">"
   ]
  },
  {
   "cell_type": "code",
   "execution_count": 53,
   "metadata": {},
   "outputs": [],
   "source": [
    "@test begin  \n",
    "    backend(meshcat)\n",
    "    new_backend()\n",
    "    \n",
    "    alfa_init = 0\n",
    "    alfa_end = 3pi/2\n",
    "    ri = 5\n",
    "    re = 15\n",
    "    floor_h = 2.5\n",
    "    floors = 3\n",
    "    l_beams = 12\n",
    "    s_beams = 35\n",
    "    n_pillars = 20\n",
    "    m_pillars = 4\n",
    "    p_offset = 1\n",
    "    corridor_w = 2\n",
    "       \n",
    "    delete_all_shapes()\n",
    "    slabs(u0(), ri, re, alfa_init, alfa_end, alfa_end, 0.1, floor_h, floors, 30)\n",
    "    straight_glass(u0(), ri, alfa_init, alfa_end, floor_h, floors, 30)\n",
    "    straight_glass(u0(), re, alfa_init, alfa_end, floor_h, floors, 30)\n",
    "    pillars_z(u0(), ri+p_offset, re-p_offset, alfa_init, alfa_end, n_pillars, m_pillars, floor_h, floors)\n",
    "    \n",
    "    wall_trans_floor(u0(), 0, alfa_init, alfa_end, ri, re, corridor_w, floor_h, p_offset, n_pillars, m_pillars, broken=false)\n",
    "    wall_trans_floor(u0(), floor_h, alfa_init, alfa_end, ri, re, corridor_w, floor_h, p_offset, n_pillars, m_pillars)\n",
    "    wall_trans_floor(u0(), floor_h*2, alfa_init, alfa_end, ri, re, corridor_w, floor_h, p_offset, n_pillars, m_pillars)\n",
    "end"
   ]
  },
  {
   "cell_type": "markdown",
   "metadata": {},
   "source": [
    "Expected result:\n",
    "<img src=\"./plots/wall_trans_set.png\" width=\"800\">"
   ]
  },
  {
   "cell_type": "markdown",
   "metadata": {},
   "source": [
    "## Curved inner walls"
   ]
  },
  {
   "cell_type": "markdown",
   "metadata": {},
   "source": [
    "__Parameters explained__\n",
    "\n",
    "`curve_wall`\n",
    "\n",
    "* center = center of the arc path along which the wall is created\n",
    "* z = level height at which the wall is created\n",
    "* alfa_init = beginning angle for the arc path \n",
    "* alfa_end = ending angle for the arc path\n",
    "* r = radius if the arc path\n",
    "* h = floor height, corresponds to wall height as well\n",
    "\n",
    "`doors`\n",
    "\n",
    "* w = doors receive the host wall as parameter\n",
    "* pts = a door of the `door_fam` family is placed in each of the points of this list \n",
    "\n",
    "`curve_wall_broken`\n",
    "\n",
    "* n_corridors = number of rooms in the floor. There will be 2 transversal corridors, respectivle at 1/3 and 2/3 of this number. The corridors will break the curve wall to create passages, eliminating a room that might have been there instead\n",
    "* has_doors = boolean value defining if this wall has doors or not"
   ]
  },
  {
   "cell_type": "markdown",
   "metadata": {},
   "source": [
    "This function creates an arc-shaped wall:"
   ]
  },
  {
   "cell_type": "code",
   "execution_count": 54,
   "metadata": {},
   "outputs": [
    {
     "data": {
      "text/plain": [
       "curve_wall (generic function with 1 method)"
      ]
     },
     "execution_count": 54,
     "metadata": {},
     "output_type": "execute_result"
    }
   ],
   "source": [
    "curve_wall(center, z, alfa_init, alfa_end, r, h)=\n",
    "    begin\n",
    "        wall(arc_path(center, r, alfa_init, alfa_end-alfa_init), bottom_level=level(z), top_level=level(z+h))\n",
    "    #     stroke(arc_path(center, r, alfa_init, alfa_end-alfa_init)) #debug\n",
    "    end"
   ]
  },
  {
   "cell_type": "code",
   "execution_count": 55,
   "metadata": {},
   "outputs": [],
   "source": [
    "@test begin\n",
    "\n",
    "    backend(meshcat)\n",
    "    new_backend()\n",
    "    @manipulate for alfa_init = widget(0:pi/20:3pi/2, label=\"Initial angle\"),\n",
    "                    alfa_end = widget(pi/2:pi/20:2pi, label=\"Final angle\"),\n",
    "                    h = widget(0:1:3, label=\"Pilar height\"),\n",
    "                    r = widget(1:0.1:5, label=\"Array Radius\")\n",
    "                    delete_all_shapes()        \n",
    "                    curve_wall(u0(), 0, alfa_init, alfa_end, r, h)\n",
    "    end\n",
    "end"
   ]
  },
  {
   "cell_type": "markdown",
   "metadata": {},
   "source": [
    "Expected result:\n",
    "<img src=\"./plots/wall_curve.png\" width=\"800\">"
   ]
  },
  {
   "cell_type": "markdown",
   "metadata": {},
   "source": [
    "`doors` function places doors in each location of the list within the given wall's axis.\n",
    "\n",
    "`and_dist` is an auxiliary function to calculate the angular distance of an arc.\n",
    "\n",
    "`no_doors` should be a global variable. If true no doors are placed (that is to say, no boolean operation is conducted). If false, all doors will be created in the building. This variable prevents errors in backends where boolean operations are yet under-developed, and it helps speed up the generation process in all others when the goal is not to generate the complete building model. Boolean operations are computational expensive and there are a lot of doors in the building.\n"
   ]
  },
  {
   "cell_type": "code",
   "execution_count": 56,
   "metadata": {},
   "outputs": [
    {
     "data": {
      "text/plain": [
       "true"
      ]
     },
     "execution_count": 56,
     "metadata": {},
     "output_type": "execute_result"
    }
   ],
   "source": [
    "doors(w, pts) = no_doors ? w : foreach(pt->add_door(w, pt, door_fam), pts)\n",
    "ang_dist(r, ang) = ang*r\n",
    "\n",
    "no_doors = true"
   ]
  },
  {
   "cell_type": "markdown",
   "metadata": {},
   "source": [
    "Unlike the `curve_wall` function, which generates a continuous wall across the entire floor, this one creates a broken wall, or rather a sequence of walls separated by corridors. The __full length wall__ is used for the outer walls, and the __broken walls__ are used in the middle ones to open up passages between corridors."
   ]
  },
  {
   "cell_type": "code",
   "execution_count": 57,
   "metadata": {},
   "outputs": [
    {
     "data": {
      "text/plain": [
       "curve_wall_broken (generic function with 2 methods)"
      ]
     },
     "execution_count": 57,
     "metadata": {},
     "output_type": "execute_result"
    }
   ],
   "source": [
    "curve_wall_broken(center, z, alfa_init, alfa_end, r, h, n_corridors, has_doors=false)=\n",
    "    let amplitude = (alfa_end-alfa_init)/n_corridors\n",
    "        alfas = division(alfa_init, alfa_end, n_corridors, false)\n",
    "        mark1 = floor(Int, n_corridors*(1/3))\n",
    "        mark2 = ceil(Int, n_corridors*(2/3))\n",
    "        door_w = 1\n",
    "\n",
    "        function curve_wall_with_doors(angs, n_doors)\n",
    "            local_amp = angs[end]-angs[1]\n",
    "            door_locs = [x(a*r+local_amp*r/n_doors-door_w*1.2)\n",
    "                            for a in division(0, local_amp, n_doors, false)]\n",
    "            has_doors ?\n",
    "                doors(curve_wall(center, z, angs[1], angs[end], r, h), door_locs) :\n",
    "                curve_wall(center, z, angs[1], angs[end], r, h)\n",
    "        end\n",
    "\n",
    "        g1 = alfas[2:mark1]\n",
    "        g2 = alfas[mark1+1:mark2]\n",
    "        g3 = alfas[mark2+1:end]\n",
    "        curve_wall_with_doors(g1, length(g1)-1)\n",
    "        curve_wall_with_doors(g2,length(g2)-1)\n",
    "        curve_wall_with_doors(g3, length(g3)-1)\n",
    "    end"
   ]
  },
  {
   "cell_type": "code",
   "execution_count": 58,
   "metadata": {},
   "outputs": [],
   "source": [
    "@test begin  \n",
    "    backend(autocad)\n",
    "    \n",
    "    alfa_init = 0\n",
    "    alfa_end = 3pi/2\n",
    "    ri = 5\n",
    "    re = 15\n",
    "    floor_h = 2.5\n",
    "    n_pillars = 20\n",
    "           \n",
    "    delete_all_shapes()\n",
    "    isenberg_slab(u0(), ri, re, alfa_init, alfa_end, alfa_end, 0.1, 30)\n",
    "    curve_wall_broken(u0(), 0, alfa_init, alfa_end, ri+3, floor_h, n_pillars)\n",
    "    curve_wall_broken(u0(), 0, alfa_init, alfa_end, re-3, floor_h, n_pillars)\n",
    "end"
   ]
  },
  {
   "cell_type": "markdown",
   "metadata": {},
   "source": [
    "Expected result:\n",
    "<img src=\"./plots/wall_curve_broken.png\" width=\"400\">"
   ]
  },
  {
   "cell_type": "markdown",
   "metadata": {},
   "source": [
    "__Paremeters explained__\n",
    "\n",
    "`curve_walls`\n",
    "\n",
    "* inner_r = radius for the arc path of the inner most wall\n",
    "* outer_r = radius for the arc path of the outer most wall\n",
    "* corridor_w = all across corridors' width - this defines the distance between `p_mid_in` and `p_wall_in`\n",
    "* n_pillars = number of pillars across the floor in the direction of the arc path\n",
    "* m_pillars = number of pillars across the floor transversely (will define/influence the number of rooms)\n",
    "* wall_thick = wall thickness"
   ]
  },
  {
   "cell_type": "code",
   "execution_count": 59,
   "metadata": {},
   "outputs": [
    {
     "data": {
      "text/plain": [
       "curve_walls (generic function with 1 method)"
      ]
     },
     "execution_count": 59,
     "metadata": {},
     "output_type": "execute_result"
    }
   ],
   "source": [
    "curve_walls(center, z, alfa_init, alfa_end, inner_r, outer_r, corridor_w, h, n_pillars, m_pillars, wall_thick)=\n",
    "    let pillar_rs = division(inner_r, outer_r, m_pillars-1)\n",
    "        room_size = Int(floor(m_pillars/3))\n",
    "        r_in = pillar_rs[1+room_size]\n",
    "        r_out = pillar_rs[end-room_size]\n",
    "        r_in_corridor = r_in-corridor_w\n",
    "        r_out_corridor = r_out+corridor_w\n",
    "\n",
    "        door_locs(r, angs) = [x(ang+wall_thick/2) for ang in angs]\n",
    "        angs_in = division(0, ang_dist(r_in_corridor, alfa_end-alfa_init), n_pillars, false)\n",
    "        angs_out = division(0, ang_dist(r_out_corridor, alfa_end-alfa_init), n_pillars, false)\n",
    "\n",
    "        doors(curve_wall(center, z, alfa_init, alfa_end, r_in_corridor, h), door_locs(r_in_corridor, angs_in))\n",
    "        curve_wall_broken(center, z, alfa_init, alfa_end, r_in, h, n_pillars, false)\n",
    "        curve_wall_broken(center, z, alfa_init, alfa_end, r_out, h, n_pillars, true)\n",
    "        doors(curve_wall(center, z, alfa_init, alfa_end, r_out_corridor, h), door_locs(r_out_corridor, angs_out))\n",
    "    end"
   ]
  },
  {
   "cell_type": "code",
   "execution_count": 60,
   "metadata": {},
   "outputs": [],
   "source": [
    "@test begin  \n",
    "    backend(autocad)\n",
    "    \n",
    "    alfa_init = 0\n",
    "    alfa_end = 3pi/2\n",
    "    ri = 5\n",
    "    re = 15\n",
    "    floor_h = 2.5\n",
    "    n_pillars = 20\n",
    "    m_pillars = 4\n",
    "    p_offset = 1\n",
    "    corridor_w = 2\n",
    "       \n",
    "    delete_all_shapes()\n",
    "    \n",
    "    isenberg_slab(u0(), ri, re, alfa_init, alfa_end, alfa_end, 0.1, 30)\n",
    "    pillars_z(u0(), ri+p_offset, re-p_offset, alfa_init, alfa_end, n_pillars, m_pillars, floor_h, floors) \n",
    "    wall_trans_floor(u0(), 0, alfa_init, alfa_end, ri, re, corridor_w, floor_h, p_offset, n_pillars, m_pillars)\n",
    "    curve_walls(u0(), 0, alfa_init, alfa_end, ri+p_offset, re-p_offset, corridor_w, floor_h, n_pillars, m_pillars, 0.1)\n",
    "end"
   ]
  },
  {
   "cell_type": "markdown",
   "metadata": {},
   "source": [
    "Expected result:\n",
    "<img src=\"./plots/wall_floor_plan_test.png\" width=\"500\">"
   ]
  },
  {
   "cell_type": "markdown",
   "metadata": {},
   "source": [
    "This function joins the __curve walls__ and the __transversal walls__, creating a complete floor plan:"
   ]
  },
  {
   "cell_type": "code",
   "execution_count": 61,
   "metadata": {},
   "outputs": [
    {
     "data": {
      "text/plain": [
       "rooms_floor (generic function with 1 method)"
      ]
     },
     "execution_count": 61,
     "metadata": {},
     "output_type": "execute_result"
    }
   ],
   "source": [
    "rooms_floor(center, z, alfa_init, alfa_end, inner_r, outer_r, corridor_w, h, p_offset, n_pillars, m_pillars, wall_thick)=\n",
    "    begin\n",
    "        wall_trans_floor(center, z, alfa_init, alfa_end, inner_r, outer_r, corridor_w, h, p_offset, n_pillars, m_pillars)\n",
    "        curve_walls(center, z, alfa_init, alfa_end, inner_r+p_offset, outer_r-pillar_offset, corridor_w, h, n_pillars, m_pillars, wall_thick)\n",
    "    end"
   ]
  },
  {
   "cell_type": "code",
   "execution_count": 62,
   "metadata": {},
   "outputs": [],
   "source": [
    "@test begin  \n",
    "    backend(autocad)\n",
    "    \n",
    "    alfa_init = 0\n",
    "    alfa_end = 3pi/2\n",
    "    ri = 5\n",
    "    re = 15\n",
    "    floor_h = 2.5\n",
    "    n_pillars = 20\n",
    "    m_pillars = 4\n",
    "    p_offset = 1\n",
    "    corridor_w = 2\n",
    "     \n",
    "    no_doors = false\n",
    "    \n",
    "    delete_all_shapes()\n",
    "    isenberg_slab(u0(), ri, re, alfa_init, alfa_end, alfa_end, 0.1, 30)\n",
    "    pillars_z(u0(), ri+p_offset, re-p_offset, alfa_init, alfa_end, n_pillars, m_pillars, floor_h, floors) \n",
    "    rooms_floor(u0(), 0, alfa_init, alfa_end, ri, re, corridor_w, floor_h, p_offset, n_pillars, m_pillars, 0.1)\n",
    "end"
   ]
  },
  {
   "cell_type": "markdown",
   "metadata": {},
   "source": [
    "Expected result: \n",
    "\n",
    "| Should be the same as the previous test but with doors | Parallel projection |\n",
    "|--------------------------------------------------------|---------------------|\n",
    "|<img src=\"./plots/wall_floor_plan_doors.png\" width=\"400\">|<img src=\"./plots/wall_floor_plan_doors2.png\" width=\"600\"> |"
   ]
  },
  {
   "cell_type": "markdown",
   "metadata": {},
   "source": [
    "# Lights"
   ]
  },
  {
   "cell_type": "markdown",
   "metadata": {},
   "source": [
    "`lights_rooms_floor` spreads point lights throughout the corridors and rooms of the building, in an arc-shaped grid that accompanies the shape of the plan. \n",
    "\n",
    "`lights_on` is another global variable, created for performance sake. When set to true, all building lights are created which deeply slows both the generation and the navigation process. My advice is to generate the entire building without lights and without doors, navigate through it like so and pick a view. Save the view set, and then generate the complete thing for render purposes only."
   ]
  },
  {
   "cell_type": "code",
   "execution_count": 63,
   "metadata": {},
   "outputs": [
    {
     "data": {
      "text/plain": [
       "false"
      ]
     },
     "execution_count": 63,
     "metadata": {},
     "output_type": "execute_result"
    }
   ],
   "source": [
    "light(p) = pointlight(p, #=color range=12,=# intensity=.9)\n",
    "\n",
    "lights_rooms_floor(center, z, alfa_init, alfa_end, inner_r, outer_r, h, p_offset, n_pillars, m_pillars)=\n",
    "    let amp_tot = alfa_end-alfa_init\n",
    "        amp_room = amp_tot/n_pillars\n",
    "        map_division((m,n) -> light(center+vcyl(m,n,z+.8h)),\n",
    "                        inner_r+p_offset, outer_r-p_offset, m_pillars, # pillar_rs\n",
    "                        alfa_init+amp_room/2, alfa_end+amp_room/2, n_pillars, false) # alfas\n",
    "    end\n",
    "\n",
    "lights_on = false"
   ]
  },
  {
   "cell_type": "code",
   "execution_count": 64,
   "metadata": {},
   "outputs": [],
   "source": [
    "@test begin  \n",
    "    backend(autocad)\n",
    "    \n",
    "    alfa_init = 0\n",
    "    alfa_end = 3pi/2\n",
    "    ri = 5\n",
    "    re = 15\n",
    "    floor_h = 2.5\n",
    "    n_pillars = 20\n",
    "    m_pillars = 4\n",
    "    p_offset = 1\n",
    "    corridor_w = 2\n",
    "     \n",
    "    no_doors = true\n",
    "    lights_on = true\n",
    "    \n",
    "    delete_all_shapes()\n",
    "    isenberg_slab(u0(), ri, re, alfa_init, alfa_end, alfa_end, 0.1, 30)\n",
    "    rooms_floor(u0(), 0, alfa_init, alfa_end, ri, re, corridor_w, floor_h, p_offset, n_pillars, m_pillars, 0.1)\n",
    "    lights_rooms_floor(u0(), 0, alfa_init, alfa_end, ri, re, floor_h, p_offset, n_pillars, m_pillars)\n",
    "end;"
   ]
  },
  {
   "cell_type": "markdown",
   "metadata": {},
   "source": [
    "Expected result:\n",
    "<img src=\"./plots/lights_plan.png\" width=\"500\">"
   ]
  },
  {
   "cell_type": "markdown",
   "metadata": {},
   "source": [
    "# Complete floor plan"
   ]
  },
  {
   "cell_type": "markdown",
   "metadata": {},
   "source": [
    "This function creates the complete floor plan for __floor zero__, which has larger rooms (auditoriums in this case) than the rest, and only one row of rooms as well. The function also joins in the lights defined above:"
   ]
  },
  {
   "cell_type": "code",
   "execution_count": 65,
   "metadata": {},
   "outputs": [
    {
     "data": {
      "text/plain": [
       "floor_zero (generic function with 1 method)"
      ]
     },
     "execution_count": 65,
     "metadata": {},
     "output_type": "execute_result"
    }
   ],
   "source": [
    "floor_zero(center, z, alfa_init, alfa_proj, alfa_end, inner_r, outer_r, corridor_w, p_offset, n_pillars, m_pillars, h, wall_thick)=\n",
    "    let pillar_rs = division(inner_r+p_offset, outer_r-pillar_offset, m_pillars-1)\n",
    "        r_in = pillar_rs[2]\n",
    "        door_w = 1\n",
    "\n",
    "        amp_tot = alfa_end-alfa_init\n",
    "        amp_circle = alfa_proj-alfa_init\n",
    "        amp_room = amp_tot/n_pillars\n",
    "        proportion = amp_circle/amp_tot\n",
    "        n_rooms = floor(n_pillars*proportion)\n",
    "        amp_wall_area = alfa_init+n_rooms*amp_room\n",
    "        n_walls = floor(Int, proportion*n_pillars/2)\n",
    "\n",
    "        ang_dists = division(0, ang_dist(r_in, n_rooms*amp_room), n_walls)\n",
    "        door_locs_1 = [x(ang+wall_thick/2) for ang in ang_dists[1:end-1]]\n",
    "        door_locs_2 = [x(ang-door_w-wall_thick/2) for ang in ang_dists[2:end]]\n",
    "\n",
    "        wall_trans_floor(center, z, alfa_init, amp_wall_area, inner_r, outer_r, corridor_w, h, p_offset, n_walls, m_pillars, broken=false)\n",
    "        doors(curve_wall(center, z, alfa_init, amp_wall_area, r_in, h), [door_locs_1..., door_locs_2...])\n",
    "        lights_on ? lights_rooms_floor(center, z, alfa_init, alfa_end, inner_r, outer_r, h, p_offset, n_pillars, m_pillars) : nothing\n",
    "    end"
   ]
  },
  {
   "cell_type": "code",
   "execution_count": 66,
   "metadata": {},
   "outputs": [],
   "source": [
    "@test begin  \n",
    "    backend(autocad)\n",
    "    \n",
    "    alfa_init = 0\n",
    "    alfa_proj = pi+pi/4\n",
    "    alfa_end = 3pi/2\n",
    "    ri = 5\n",
    "    re = 15\n",
    "    floor_h = 2.5\n",
    "    n_pillars = 20\n",
    "    m_pillars = 4\n",
    "    p_offset = 1\n",
    "    corridor_w = 2\n",
    "     \n",
    "    lights_on = true\n",
    "    no_doors = false\n",
    "    \n",
    "    delete_all_shapes()\n",
    "    isenberg_slab(u0(), ri, re, alfa_init, alfa_end, alfa_end, 0.1, 30)\n",
    "    floor_zero(u0(), 0, alfa_init, alfa_proj, alfa_end, ri, re, corridor_w, p_offset, n_pillars, m_pillars, floor_h, 0.4)\n",
    "end;"
   ]
  },
  {
   "cell_type": "markdown",
   "metadata": {},
   "source": [
    "Expected result:\n",
    "<img src=\"./plots/lights_plan_zero.png\" width=\"500\">"
   ]
  },
  {
   "cell_type": "markdown",
   "metadata": {},
   "source": [
    "This function joins the complete floor plan defined above for the upper floors in `room_floor` and joins the lights:"
   ]
  },
  {
   "cell_type": "code",
   "execution_count": 67,
   "metadata": {},
   "outputs": [
    {
     "data": {
      "text/plain": [
       "floor_plans (generic function with 1 method)"
      ]
     },
     "execution_count": 67,
     "metadata": {},
     "output_type": "execute_result"
    }
   ],
   "source": [
    "floor_plans(center, alfa_init, alfa_end, inner_r, outer_r, corridor_w, h, floors, p_offset, n_pillars, m_pillars, wall_thick)=\n",
    "    for z in division(h, h*floors, floors-1, false)\n",
    "        rooms_floor(center, z, alfa_init, alfa_end, inner_r, outer_r, corridor_w, h, p_offset, n_pillars, m_pillars, wall_thick)\n",
    "        lights_on ? lights_rooms_floor(center, z, alfa_init, alfa_end, inner_r, outer_r, h, p_offset, n_pillars, m_pillars) : nothing\n",
    "    end"
   ]
  },
  {
   "cell_type": "code",
   "execution_count": 68,
   "metadata": {},
   "outputs": [],
   "source": [
    "@test begin  \n",
    "    backend(meshcat)\n",
    "    new_backend()\n",
    "    \n",
    "    alfa_init = 0\n",
    "    alfa_proj = pi+pi/4\n",
    "    alfa_end = 3pi/2\n",
    "    ri = 5\n",
    "    re = 15\n",
    "    floor_h = 2.5\n",
    "    n_pillars = 20\n",
    "    m_pillars = 4\n",
    "    p_offset = 1\n",
    "    corridor_w = 2\n",
    "    floors = 3\n",
    "     \n",
    "    lights_on = false\n",
    "    no_doors = true\n",
    "    \n",
    "    delete_all_shapes()\n",
    "    \n",
    "    slabs(u0(), ri, re, alfa_init, alfa_end, alfa_end, 0.4, floor_h, floors, 30)\n",
    "    straight_glass(u0(), ri, alfa_init, alfa_end, floor_h, floors, 30)\n",
    "    straight_glass(u0(), re, alfa_init, alfa_end, floor_h, floors, 30)\n",
    "    pillars_z(u0(), ri+p_offset, re-p_offset, alfa_init, alfa_end, n_pillars, m_pillars, floor_h, floors)\n",
    "    \n",
    "    floor_plans(u0(), alfa_init, alfa_end, ri, re, corridor_w, floor_h, floors, p_offset, n_pillars, m_pillars, 0.4)\n",
    "    floor_zero(u0(), 0, alfa_init, alfa_proj, alfa_end, ri, re, corridor_w, p_offset, n_pillars, m_pillars, floor_h, 0.4)\n",
    "end;"
   ]
  },
  {
   "cell_type": "markdown",
   "metadata": {},
   "source": [
    "Expected result:\n",
    "<img src=\"./plots/complete_floors.png\" width=\"800\">"
   ]
  },
  {
   "cell_type": "markdown",
   "metadata": {},
   "source": [
    "# Site"
   ]
  },
  {
   "cell_type": "markdown",
   "metadata": {},
   "source": [
    "This function creates a large plane (slab) to set the ground floor for the building. Change the `ground_fam` material in each specific backend to obtain different textures, e.g., grass, concrete, or simply white for clean renders of the building alone."
   ]
  },
  {
   "cell_type": "code",
   "execution_count": 69,
   "metadata": {},
   "outputs": [
    {
     "data": {
      "text/plain": [
       "ground (generic function with 1 method)"
      ]
     },
     "execution_count": 69,
     "metadata": {},
     "output_type": "execute_result"
    }
   ],
   "source": [
    "ground() =\n",
    "    let x = 1000\n",
    "        y = 1000\n",
    "      slab(closed_polygonal_path([xy(-x,y), xy(x,y), xy(x,-y), xy(-x,-y)]), level(-0.05), ground_fam)\n",
    "    end"
   ]
  },
  {
   "cell_type": "markdown",
   "metadata": {},
   "source": [
    "__Patio Trees__"
   ]
  },
  {
   "cell_type": "markdown",
   "metadata": {},
   "source": [
    "This section contains the definition of random tree-like shapes to populate the surroundings of the building. Some unnecessary complexity can be seen in this code on account of Unity's unique handle on material attribution for non-BIM elements (such as the case of the cone-frustum which is not a BIM object). Khepri is evolving and this will eventually be evened out for all backends."
   ]
  },
  {
   "cell_type": "code",
   "execution_count": 70,
   "metadata": {},
   "outputs": [
    {
     "data": {
      "text/plain": [
       "leaf (generic function with 1 method)"
      ]
     },
     "execution_count": 70,
     "metadata": {},
     "output_type": "execute_result"
    }
   ],
   "source": [
    "leaf(p, r, mat) =\n",
    "    if current_backend() == unity\n",
    "        with(current_material, get_material(mat)) do\n",
    "            sphere(p, r)\n",
    "        end\n",
    "    else\n",
    "        sphere(p, r)\n",
    "    end"
   ]
  },
  {
   "cell_type": "code",
   "execution_count": 71,
   "metadata": {},
   "outputs": [
    {
     "data": {
      "text/plain": [
       "branch (generic function with 1 method)"
      ]
     },
     "execution_count": 71,
     "metadata": {},
     "output_type": "execute_result"
    }
   ],
   "source": [
    "branch(pb, rb, pt, rt, mat)=\n",
    "    if current_backend() == unity\n",
    "        with(current_material, get_material(mat)) do\n",
    "            cone_frustum(pb, rb, pt, rt)\n",
    "        end\n",
    "    else\n",
    "        cone_frustum(pb, rb, pt, rt)\n",
    "    end"
   ]
  },
  {
   "cell_type": "markdown",
   "metadata": {},
   "source": [
    "Three possible materials/colors were picked for the sphere-like leaves (green, purple, and yellow). These will only be visible in Unity. These colors should be defined in the global variable `leaves_color`, provided as a string."
   ]
  },
  {
   "cell_type": "code",
   "execution_count": 72,
   "metadata": {},
   "outputs": [
    {
     "data": {
      "text/plain": [
       "tree (generic function with 1 method)"
      ]
     },
     "execution_count": 72,
     "metadata": {},
     "output_type": "execute_result"
    }
   ],
   "source": [
    "tree(p_base, r_base, w_branch, fi, psi, min_f_w, max_f_w, max_fi, min_psi, max_psi) =\n",
    "  let psi = psi > pi/2 ? psi - pi/2 : psi < -pi/2 ? psi + pi/2 : psi\n",
    "      p_top = p_base + vsph(w_branch, fi, psi)\n",
    "      r_top = r_base/2\n",
    "      leaf_mat = leaves_color == \"green\" ? \"Default/Materials/Grass\" :\n",
    "                leaves_color == \"purple\" ? \"prefabs/bookshelves/dependencies/Patterns/GreenFabric\" :\n",
    "                \"prefabs/bookshelves/dependencies/Patterns/DirtyCraftPaper\" #yellow\n",
    "      branch_mat = \"materials/wood/ExteriorWood9\"\n",
    "      branch(p_base, r_base, p_top, r_top, branch_mat)\n",
    "      if w_branch < 0.01 || r_top < 0.001\n",
    "          winter ? nothing : leaf(p_top, 0.05, leaf_mat)\n",
    "      else\n",
    "          tree(p_top, r_top, w_branch*random_range(min_f_w, max_f_w), fi + random(max_fi), psi + random_range(min_psi, max_psi), min_f_w, max_f_w, max_fi, min_psi, max_psi)\n",
    "          tree(p_top, r_top, w_branch*random_range(min_f_w, max_f_w), fi - random(max_fi), psi - random_range(min_psi, max_psi), min_f_w, max_f_w, max_fi, min_psi, max_psi)\n",
    "      end\n",
    "  end"
   ]
  },
  {
   "cell_type": "markdown",
   "metadata": {},
   "source": [
    "This function defines minimum and maximum values for the `tree` parameters, in order to spare the user the task of providing them for each tree. Also for a forest-like effect, randomness is a good option."
   ]
  },
  {
   "cell_type": "code",
   "execution_count": 73,
   "metadata": {},
   "outputs": [
    {
     "data": {
      "text/plain": [
       "random_tree (generic function with 1 method)"
      ]
     },
     "execution_count": 73,
     "metadata": {},
     "output_type": "execute_result"
    }
   ],
   "source": [
    "random_tree(p)=\n",
    "  let r_base = random_range(0.05, 0.3)\n",
    "      w_branch = random_range(2, 5)\n",
    "      fi = 0\n",
    "      psi = 0\n",
    "      min_f_w = 0.6 # branch width max factor\n",
    "      max_f_w = 0.9 # branch width min factor\n",
    "      max_fi = 2pi\n",
    "      min_psi = pi/16\n",
    "      max_psi = pi/2\n",
    "      tree(p, r_base, w_branch, fi, psi, min_f_w, max_f_w, max_fi, min_psi, max_psi)\n",
    "\n",
    "end"
   ]
  },
  {
   "cell_type": "code",
   "execution_count": 74,
   "metadata": {},
   "outputs": [],
   "source": [
    "@test begin\n",
    "    backend(unity)\n",
    "    delete_all_shapes()\n",
    "    \n",
    "    set_backend_family(ground_fam, unity, unity_material_family(\"Default/Materials/WhiteUnlit\"))\n",
    "    ground()\n",
    "    winter=true\n",
    "    tree(x(0), .1, 2, 0, 0, .6, .9, 2pi, pi/16, pi/2)\n",
    "    tree(x(5), .1, 2, 0, 0, .6, .9, 2pi, pi/16, pi/2)\n",
    "    tree(x(10), .1, 2, 0, 0, .6, .9, 2pi, pi/16, pi/2)\n",
    "\n",
    "#     render_dir(\"C:\\\\Users\\\\Renata\\\\Google Drive\\\\Khepri_Projects\\\\Isenberg_jl\")\n",
    "#     render_view(\"test\")\n",
    "end"
   ]
  },
  {
   "cell_type": "markdown",
   "metadata": {},
   "source": [
    "| Unity render of the winter trees |  \n",
    "|-------------------------------------------------------| \n",
    "| <img src=\"./figures/tree_winter.png\" width=\"600\"> |"
   ]
  },
  {
   "cell_type": "code",
   "execution_count": 75,
   "metadata": {},
   "outputs": [],
   "source": [
    "@test begin\n",
    "    backend(unity)\n",
    "    delete_all_shapes()\n",
    "    \n",
    "    set_backend_family(ground_fam, unity, unity_material_family(\"Default/Materials/WhiteUnlit\"))\n",
    "    ground()\n",
    "    winter=false\n",
    "    leaves_color = \"yellow\"\n",
    "    tree(x(0), .1, 2, 0, 0, .6, .9, 2pi, pi/16, pi/2)\n",
    "    leaves_color = \"green\"\n",
    "    tree(x(5), .1, 2, 0, 0, .6, .9, 2pi, pi/16, pi/2)\n",
    "    leaves_color = \"purple\"\n",
    "    tree(x(10), .1, 2, 0, 0, .6, .9, 2pi, pi/16, pi/2)\n",
    "\n",
    "#     render_dir(\"C:\\\\Users\\\\Renata\\\\Google Drive\\\\Khepri_Projects\\\\Isenberg_jl\")\n",
    "#     render_view(\"test\")\n",
    "end"
   ]
  },
  {
   "cell_type": "markdown",
   "metadata": {},
   "source": [
    "| Unity render of the leaves' coloring |  \n",
    "|-------------------------------------------------------| \n",
    "| <img src=\"./figures/trees_3_colors.png\" width=\"600\"> |"
   ]
  },
  {
   "cell_type": "markdown",
   "metadata": {},
   "source": [
    "This function creates a small round forest of `random_tree`s. The circular forest has `p` as its center location, `r` for radius, `fi` for the angle covered by the forest (may not be a full circle), and `n` defines the number of trees in it. "
   ]
  },
  {
   "cell_type": "code",
   "execution_count": 76,
   "metadata": {},
   "outputs": [
    {
     "data": {
      "text/plain": [
       "forest (generic function with 1 method)"
      ]
     },
     "execution_count": 76,
     "metadata": {},
     "output_type": "execute_result"
    }
   ],
   "source": [
    "forest(p, r, fi, n)=\n",
    "  for i in 0:n\n",
    "      random_tree(p+vpol(random_range(2, r), random(fi)))\n",
    "  end"
   ]
  },
  {
   "cell_type": "markdown",
   "metadata": {},
   "source": [
    "`choice` function chooses one random element from any given array."
   ]
  },
  {
   "cell_type": "code",
   "execution_count": 77,
   "metadata": {},
   "outputs": [
    {
     "data": {
      "text/plain": [
       "choice (generic function with 1 method)"
      ]
     },
     "execution_count": 77,
     "metadata": {},
     "output_type": "execute_result"
    }
   ],
   "source": [
    "function choice(a::Array)\n",
    "  n = length(a)\n",
    "  idx = rand(1:n)\n",
    "  return a[idx]\n",
    "end"
   ]
  },
  {
   "cell_type": "code",
   "execution_count": 78,
   "metadata": {},
   "outputs": [],
   "source": [
    "@test begin\n",
    "    backend(meshcat)\n",
    "    new_backend()\n",
    "    winter = false\n",
    "    leaves_color = choice([\"green\", \"purple\", \"yellow\"]) #random_element\n",
    "    @manipulate for r = widget(1:1:10, label=\"Radius\"),\n",
    "                    fi = widget(0:pi/20:3pi/2, label=\"Max Angle\"),\n",
    "                    n = widget(1:1:10, label=\"Trees\")\n",
    "                    delete_all_shapes()\n",
    "                    forest(u0(), r, fi, n)\n",
    "    end\n",
    "end"
   ]
  },
  {
   "cell_type": "markdown",
   "metadata": {},
   "source": [
    "Expected result:\n",
    "\n",
    "<img src=\"./plots/trees.png\" width=\"800\">"
   ]
  },
  {
   "cell_type": "markdown",
   "metadata": {},
   "source": [
    "This function joins all site elements (not part of the construction itself), the ground and the patio trees:"
   ]
  },
  {
   "cell_type": "code",
   "execution_count": 79,
   "metadata": {},
   "outputs": [
    {
     "data": {
      "text/plain": [
       "site (generic function with 1 method)"
      ]
     },
     "execution_count": 79,
     "metadata": {},
     "output_type": "execute_result"
    }
   ],
   "source": [
    "function site()\n",
    "  current_backend() == autocad || current_backend() == meshcat ? nothing : ground()\n",
    "  current_backend() == meshcat ? nothing : forest(b_center, inner_radius-2, 2pi, n_trees)\n",
    "end"
   ]
  },
  {
   "cell_type": "markdown",
   "metadata": {},
   "source": [
    "# Generate Isenberg"
   ]
  },
  {
   "cell_type": "markdown",
   "metadata": {},
   "source": [
    "The `isenberg` function contains no parameters. All isenberg variables should be defined as global variables. A list of the parameters required is provided in the ensuing section. use them as defaults and change the ones you like to create building variations. Some variation examples are also provided below."
   ]
  },
  {
   "cell_type": "code",
   "execution_count": 80,
   "metadata": {},
   "outputs": [
    {
     "data": {
      "text/plain": [
       "isenberg (generic function with 1 method)"
      ]
     },
     "execution_count": 80,
     "metadata": {},
     "output_type": "execute_result"
    }
   ],
   "source": [
    "isenberg()=\n",
    "    let b_height = floor_height*n_floors\n",
    "        outer_radius = inner_radius + building_width\n",
    "        n_small_beams = ceil(Int, n_beams_total*2/3)\n",
    "        n_large_beams = ceil(Int, n_beams_total/4)\n",
    "        end_circle = begin_projection + pi/2\n",
    "\n",
    "        slabs(b_center, inner_radius, outer_radius, begin_circle, begin_projection, end_circle, slab_thickness, floor_height, n_floors, n_crv_pts)\n",
    "        outer_beams(b_center, b_height, outer_radius, begin_circle, begin_projection, n_small_beams)\n",
    "        large_outer_beams(b_center, b_height, outer_radius, begin_projection, end_circle, beam_width, l_beam_lenght, n_large_beams)\n",
    "\n",
    "        isenberg_wall(b_center+vpol(inner_radius, begin_circle), b_center+vpol(outer_radius, begin_circle), b_height, wall_thickness)\n",
    "        isenberg_wall(b_center+vpol(inner_radius, end_circle), b_center+vpol(outer_radius, end_circle), b_height, wall_thickness)\n",
    "\n",
    "        pillars_z(b_center, inner_radius+pillar_offset, outer_radius-pillar_offset, begin_circle, end_circle, n_pillars, m_pillars, floor_height, n_floors)\n",
    "        floor_plans(b_center, begin_circle, end_circle, inner_radius, outer_radius, corridor_width, floor_height, n_floors, pillar_offset, n_pillars, m_pillars, wall_thickness)\n",
    "        floor_zero(b_center, 0, begin_circle, begin_projection, end_circle, inner_radius, outer_radius, corridor_width, pillar_offset, n_pillars, m_pillars, floor_height, wall_thickness)\n",
    "\n",
    "        straight_glass(b_center, inner_radius, begin_circle, end_circle, floor_height, n_floors, n_small_beams) # patio\n",
    "        straight_glass(b_center+vz(floor_height), outer_radius, begin_projection, end_circle, floor_height, n_floors-1, n_large_beams*2) # inside entrance\n",
    "        straight_glass(b_center, outer_radius, begin_circle, begin_projection, floor_height, n_floors, n_small_beams) # outside\n",
    "        triangle_glass(b_center, b_height, outer_radius, begin_projection, end_circle, beam_width, l_beam_lenght, n_large_beams)\n",
    "        large_beam_glass(b_center, b_height, outer_radius, begin_projection, end_circle, beam_width, l_beam_lenght, n_large_beams)\n",
    "    end"
   ]
  },
  {
   "cell_type": "markdown",
   "metadata": {},
   "source": [
    "## Defaut parameters"
   ]
  },
  {
   "cell_type": "code",
   "execution_count": 81,
   "metadata": {},
   "outputs": [
    {
     "data": {
      "text/plain": [
       "false"
      ]
     },
     "execution_count": 81,
     "metadata": {},
     "output_type": "execute_result"
    }
   ],
   "source": [
    "# building shape\n",
    "b_center = u0()\n",
    "floor_height = 3\n",
    "n_floors = 3\n",
    "inner_radius = 10\n",
    "building_width = 15\n",
    "\n",
    "# Dimentions\n",
    "slab_thickness = .4\n",
    "wall_thickness = .4\n",
    "#glass_thick = 0.05\n",
    "beam_width = .4\n",
    "s_beam_lenght = .4\n",
    "l_beam_lenght = 3.5\n",
    "\n",
    "# n points, n beams\n",
    "n_beams_total = 60\n",
    "n_crv_pts = 100\n",
    "\n",
    "# Pilars and inside walls\n",
    "n_pillars = n_beams_total/3\n",
    "m_pillars = 4\n",
    "pillar_offset = 1\n",
    "corridor_width = 2\n",
    "\n",
    "# Circle rotation\n",
    "begin_circle = 0\n",
    "begin_projection = pi\n",
    "\n",
    "# Patio tress\n",
    "n_trees = 15\n",
    "winter = false\n",
    "leaves_color = choice([\"green\", \"purple\", \"yellow\"])\n",
    "\n",
    "# Booleans for Unity\n",
    "no_doors = true\n",
    "lights_on = false"
   ]
  },
  {
   "cell_type": "code",
   "execution_count": 82,
   "metadata": {},
   "outputs": [],
   "source": [
    "@test begin\n",
    "    backend(meshcat)\n",
    "    new_backend()\n",
    "    sleep(5)\n",
    "    isenberg()\n",
    "end"
   ]
  },
  {
   "cell_type": "markdown",
   "metadata": {},
   "source": [
    "Expected result:\n",
    "\n",
    "| | Complete Isenberg model in the Meshcat backend  |\n",
    "|----------------------------------------------------|--|\n",
    "| <img src=\"./plots/isen_meshcat1.png\" width=\"450\"> | <img src=\"./plots/isen_meshcat3.png\" width=\"450\"> |\n",
    "\n",
    "| |  |\n",
    "|----------------------------------------------------|--|\n",
    "| <img src=\"./plots/isen_meshcat2.png\" width=\"300\"> | <img src=\"./plots/isen_meshcat4.png\" width=\"600\"> "
   ]
  },
  {
   "cell_type": "markdown",
   "metadata": {},
   "source": [
    "## Backend specifics"
   ]
  },
  {
   "cell_type": "markdown",
   "metadata": {},
   "source": [
    "### Unity materials"
   ]
  },
  {
   "cell_type": "markdown",
   "metadata": {},
   "source": [
    "Raw materials:"
   ]
  },
  {
   "cell_type": "markdown",
   "metadata": {},
   "source": [
    "| Patined copper   | Rusted copper   | Concrete       | Plaster     | Steel           | Grass     |      \n",
    "|------------------|-----------------|----------------|-------------|-----------------|-----------|\n",
    "| <img src=\"./materials/copper_patina.png\" width=\"130\"> | <img src=\"./materials/copper_rusted.png\" width=\"130\"> | <img src=\"./materials/concrete.jpg\" width=\"130\"> | <img src=\"./materials/plaster.jpg\" width=\"130\"> | <img src=\"./materials/steel.jpg\" width=\"130\"> | <img src=\"./materials/grass.png\" width=\"130\"> |"
   ]
  },
  {
   "cell_type": "markdown",
   "metadata": {},
   "source": [
    "| Copper plate | Copper bricks | Plaster filling | Steel | Aluminum |       \n",
    "|--------------|---------------|-----------------|-------|----------|\n",
    "| <img src=\"./materials/copper.png\" width=\"150\"> | <img src=\"./materials/copper_bricks.png\" width=\"150\"> | <img src=\"./materials/plaster2.png\" width=\"150\"> | <img src=\"./materials/steel.png\" width=\"150\"> | <img src=\"./materials/aluminum.png\" width=\"150\"> |\n",
    "\n",
    "| Dark wood | Grass ground | Blue leaves | Purple leaves | Yellow leaves |     \n",
    "|--------------|---------------|-----------------|-------|----------|\n",
    "| <img src=\"./materials/wood9.png\" width=\"150\"> | <img src=\"./materials/grass2.png\" width=\"150\"> | <img src=\"./materials/color_blue.png\" width=\"150\"> | <img src=\"./materials/color_purple.png\" width=\"150\"> | <img src=\"./materials/color_yellow.png\" width=\"150\"> |"
   ]
  },
  {
   "cell_type": "markdown",
   "metadata": {},
   "source": [
    "We use the chosen BIM families to attribute materials in the backend:"
   ]
  },
  {
   "cell_type": "code",
   "execution_count": 83,
   "metadata": {},
   "outputs": [
    {
     "data": {
      "text/plain": [
       "IdDict{Backend,Any} with 0 entries"
      ]
     },
     "execution_count": 83,
     "metadata": {},
     "output_type": "execute_result"
    }
   ],
   "source": [
    "# -- default walls -- plaster\n",
    "set_backend_family(default_wall_family(), unity, unity_material_family(\"Default/Materials/Plaster\"))\n",
    "# -- default slabs -- plaster\n",
    "set_backend_family(default_slab_family(), unity, unity_material_family(\"Default/Materials/Plaster\"))\n",
    "# -- default columns -- copper bricks\n",
    "set_backend_family(default_column_family(), unity, unity_material_family(\"materials/metal/CopperBricks\"))\n",
    "# -- default panels -- blue glass\n",
    "set_backend_family(default_panel_family(), unity, unity_material_family(\"Default/Materials/GlassBlue\"))\n",
    "# --default curtain wall panels -- blue glass\n",
    "set_backend_family(default_curtain_wall_family().panel, unity, unity_material_family(\"Default/Materials/GlassBlue\"))\n",
    "\n",
    "# -- exterior walls -- copper bricks\n",
    "set_backend_family(copper_wall_fam, unity, unity_material_family(\"materials/metal/CopperBricks\"))\n",
    "# -- metal window frames -- steel \n",
    "set_backend_family(frame_fam, unity, unity_material_family(\"Default/Materials/Steel\"))\n",
    "# -- inner columns/pillars -- plaster\n",
    "set_backend_family(pillar_fam, unity, unity_material_family(\"Default/Materials/Plaster\"))\n",
    "# -- doors -- glass\n",
    "set_backend_family(door_fam, unity, unity_material_family(\"Default/Materials/Glass\"))\n",
    "\n",
    "# -- ground -- grass\n",
    "# set_backend_family(ground_fam, unity, unity_material_family(\"Default/Materials/Grass\"))\n",
    "# -- ground -- white plane with shadows\n",
    "# set_backend_family(ground_fam, unity, unity_material_family(\"Default/Materials/White\"))\n",
    "# -- ground -- white plane, no shadows\n",
    "set_backend_family(ground_fam, unity, unity_material_family(\"Default/Materials/WhiteUnlit\"))"
   ]
  },
  {
   "cell_type": "markdown",
   "metadata": {},
   "source": [
    "## Variations"
   ]
  },
  {
   "cell_type": "code",
   "execution_count": 84,
   "metadata": {},
   "outputs": [],
   "source": [
    "@test begin\n",
    "    backend(unity)\n",
    "    \n",
    "    delete_all_shapes()\n",
    "    ground()\n",
    "    isenberg()\n",
    "    \n",
    "    b_center = x(90)\n",
    "    floor_height = 4\n",
    "    inner_radius = 15\n",
    "    building_width = 16\n",
    "    l_beam_lenght = 4.2\n",
    "    n_beams_total = 60\n",
    "    begin_circle = pi/4\n",
    "    begin_projection = pi-pi/4\n",
    "    isenberg()\n",
    "\n",
    "    b_center = x(160)\n",
    "    floor_height = 2.8\n",
    "    n_floors = 5\n",
    "    inner_radius = 10\n",
    "    building_width = 20\n",
    "    l_beam_lenght = 3.9\n",
    "    n_beams_total = 90\n",
    "    begin_circle = pi/4\n",
    "    begin_projection = pi/2\n",
    "    isenberg()\n",
    "\n",
    "    b_center = x(-80)\n",
    "    n_floors = 2\n",
    "    l_beam_lenght = 2.3\n",
    "    inner_radius = 12\n",
    "    building_width = 12\n",
    "    n_beams_total = 60\n",
    "    begin_circle = pi/10\n",
    "    begin_projection = 3pi/2\n",
    "    isenberg()\n",
    "end"
   ]
  },
  {
   "cell_type": "markdown",
   "metadata": {},
   "source": [
    "| Isenberg variations section vew                      |          \n",
    "|------------------------------------------------------|\n",
    "| <img src=\"./figures/render_section.png\" width=\"900\"> | \n",
    "\n",
    "| Isenberg variations plan view                     |\n",
    "|---------------------------------------------------|\n",
    "| <img src=\"./figures/render_plan.png\" width=\"900\"> |"
   ]
  },
  {
   "cell_type": "code",
   "execution_count": 85,
   "metadata": {},
   "outputs": [],
   "source": [
    "@test begin\n",
    "    backend(unity)\n",
    "    \n",
    "    delete_all_shapes()\n",
    "    set_backend_family(ground_fam, unity, unity_material_family(\"Default/Materials/WhiteUnlit\"))\n",
    "    ground()\n",
    "    \n",
    "#     inner_radius = 10\n",
    "#     n_floors = 3\n",
    "    inner_radius = 5\n",
    "    n_floors = 5\n",
    "    \n",
    "    isenberg()\n",
    "    \n",
    "end"
   ]
  },
  {
   "cell_type": "markdown",
   "metadata": {},
   "source": [
    "| Isenberg inner radius and number of floors variation     |\n",
    "|---------------------------------------------------|\n",
    "| <img src=\"./figures/raio_5_10_Npisos_3_5.png\" width=\"900\"> |"
   ]
  },
  {
   "cell_type": "code",
   "execution_count": 86,
   "metadata": {},
   "outputs": [],
   "source": [
    "@test begin\n",
    "    backend(unity)\n",
    "    \n",
    "    delete_all_shapes()\n",
    "    set_backend_family(ground_fam, unity, unity_material_family(\"Default/Materials/WhiteUnlit\"))\n",
    "    ground()\n",
    "    \n",
    "#     n_beams_total = 60\n",
    "#     n_floors = 3\n",
    "#     l_beam_lenght = 3.5\n",
    "    n_floors = 5\n",
    "    n_beams_total = 40\n",
    "    l_beam_lenght = 6\n",
    "    \n",
    "    isenberg()\n",
    "    \n",
    "end"
   ]
  },
  {
   "cell_type": "markdown",
   "metadata": {},
   "source": [
    "| Isenberg number of large beams and floors variation |\n",
    "|---------------------------------------------------|\n",
    "| <img src=\"./figures/vars_2_qual.png\" width=\"900\"> |"
   ]
  },
  {
   "cell_type": "code",
   "execution_count": 87,
   "metadata": {},
   "outputs": [],
   "source": [
    "@test begin\n",
    "    backend(unity)\n",
    "    \n",
    "    winter = false # true\n",
    "    leaves_color = \"green\" # \"purple\" \"yellow\"\n",
    "    \n",
    "    delete_all_shapes()\n",
    "    site()\n",
    "    isenberg()\n",
    "    \n",
    "end"
   ]
  },
  {
   "cell_type": "markdown",
   "metadata": {},
   "source": [
    "__Unity renders of patio trees__\n",
    "\n",
    "| without leaves | with green leaves |\n",
    "|----------------|-------------------|\n",
    "| <img src=\"./figures/t4.png\" width=\"450\"> | <img src=\"./figures/t1.png\" width=\"450\"> |\n",
    "\n",
    "| with purple leaves | with yellow leaves |\n",
    "|--------------------|--------------------|\n",
    "| <img src=\"./figures/t2.png\" width=\"450\"> | <img src=\"./figures/t3.png\" width=\"450\"> |"
   ]
  },
  {
   "cell_type": "markdown",
   "metadata": {},
   "source": [
    "_The End_"
   ]
  },
  {
   "cell_type": "code",
   "execution_count": null,
   "metadata": {},
   "outputs": [],
   "source": []
  }
 ],
 "metadata": {
  "@webio": {
   "lastCommId": "fe9283f779b84758815099e720bcf70b",
   "lastKernelId": "119d3df7-d223-4cf2-9fd0-846b9b06852e"
  },
  "kernelspec": {
   "display_name": "Julia 1.4.2",
   "language": "julia",
   "name": "julia-1.4"
  },
  "language_info": {
   "file_extension": ".jl",
   "mimetype": "application/julia",
   "name": "julia",
   "version": "1.4.2"
  },
  "toc": {
   "base_numbering": 1,
   "nav_menu": {
    "height": "61px",
    "width": "160px"
   },
   "number_sections": true,
   "sideBar": true,
   "skip_h1_title": false,
   "title_cell": "Table of Contents",
   "title_sidebar": "Contents",
   "toc_cell": false,
   "toc_position": {
    "height": "calc(100% - 180px)",
    "left": "10px",
    "top": "150px",
    "width": "207.922px"
   },
   "toc_section_display": true,
   "toc_window_display": true
  }
 },
 "nbformat": 4,
 "nbformat_minor": 4
}
